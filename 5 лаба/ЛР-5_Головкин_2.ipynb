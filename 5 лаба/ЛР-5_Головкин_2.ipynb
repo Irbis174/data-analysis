{
 "cells": [
  {
   "cell_type": "code",
   "execution_count": 18,
   "id": "8d07a798-0738-4daf-859d-6a11edd56975",
   "metadata": {},
   "outputs": [],
   "source": [
    "import numpy as np\n",
    "import pandas as pd\n",
    "import matplotlib.pyplot as plt\n",
    "import seaborn as sns\n",
    "\n",
    "from sklearn.preprocessing import StandardScaler\n",
    "from sklearn.model_selection import train_test_split\n",
    "\n",
    "from sklearn.metrics import *\n",
    "\n",
    "from sklearn.neighbors import KNeighborsClassifier\n",
    "from sklearn.linear_model import LogisticRegression\n",
    "from sklearn.tree import DecisionTreeClassifier\n",
    "from sklearn.ensemble import RandomForestClassifier"
   ]
  },
  {
   "cell_type": "markdown",
   "id": "6f5f210a-320d-4c35-876f-2f71cab02e0f",
   "metadata": {},
   "source": [
    "### Обработка данных"
   ]
  },
  {
   "cell_type": "code",
   "execution_count": 2,
   "id": "8c5b4dcd-ba3b-4829-86c3-f8dc6414fff1",
   "metadata": {},
   "outputs": [
    {
     "data": {
      "text/html": [
       "<div>\n",
       "<style scoped>\n",
       "    .dataframe tbody tr th:only-of-type {\n",
       "        vertical-align: middle;\n",
       "    }\n",
       "\n",
       "    .dataframe tbody tr th {\n",
       "        vertical-align: top;\n",
       "    }\n",
       "\n",
       "    .dataframe thead th {\n",
       "        text-align: right;\n",
       "    }\n",
       "</style>\n",
       "<table border=\"1\" class=\"dataframe\">\n",
       "  <thead>\n",
       "    <tr style=\"text-align: right;\">\n",
       "      <th></th>\n",
       "      <th>Age</th>\n",
       "      <th>Gender</th>\n",
       "      <th>TotalBilirubin</th>\n",
       "      <th>Direct_Bilirubin</th>\n",
       "      <th>Alkaline_Phosphotase</th>\n",
       "      <th>Alamine_Aminotransferase</th>\n",
       "      <th>Aspartate_Aminotransferase</th>\n",
       "      <th>Total_Protiens</th>\n",
       "      <th>Albumin</th>\n",
       "      <th>Albumin_and_Globulin_Ratio</th>\n",
       "      <th>Dataset123</th>\n",
       "    </tr>\n",
       "  </thead>\n",
       "  <tbody>\n",
       "    <tr>\n",
       "      <th>0</th>\n",
       "      <td>65</td>\n",
       "      <td>Female</td>\n",
       "      <td>0.7</td>\n",
       "      <td>0.1</td>\n",
       "      <td>187.0</td>\n",
       "      <td>16</td>\n",
       "      <td>18</td>\n",
       "      <td>6.8</td>\n",
       "      <td>3.3</td>\n",
       "      <td>0.90</td>\n",
       "      <td>1</td>\n",
       "    </tr>\n",
       "    <tr>\n",
       "      <th>1</th>\n",
       "      <td>62</td>\n",
       "      <td>Male</td>\n",
       "      <td>10.9</td>\n",
       "      <td>5.5</td>\n",
       "      <td>699.0</td>\n",
       "      <td>64</td>\n",
       "      <td>100</td>\n",
       "      <td>7.5</td>\n",
       "      <td>3.2</td>\n",
       "      <td>0.74</td>\n",
       "      <td>1</td>\n",
       "    </tr>\n",
       "    <tr>\n",
       "      <th>2</th>\n",
       "      <td>62</td>\n",
       "      <td>Male</td>\n",
       "      <td>7.3</td>\n",
       "      <td>4.1</td>\n",
       "      <td>490.0</td>\n",
       "      <td>60</td>\n",
       "      <td>68</td>\n",
       "      <td>7.0</td>\n",
       "      <td>3.3</td>\n",
       "      <td>0.89</td>\n",
       "      <td>1</td>\n",
       "    </tr>\n",
       "    <tr>\n",
       "      <th>3</th>\n",
       "      <td>58</td>\n",
       "      <td>Male</td>\n",
       "      <td>1.0</td>\n",
       "      <td>0.4</td>\n",
       "      <td>182.0</td>\n",
       "      <td>14</td>\n",
       "      <td>20</td>\n",
       "      <td>6.8</td>\n",
       "      <td>3.4</td>\n",
       "      <td>1.00</td>\n",
       "      <td>1</td>\n",
       "    </tr>\n",
       "    <tr>\n",
       "      <th>4</th>\n",
       "      <td>72</td>\n",
       "      <td>Male</td>\n",
       "      <td>3.9</td>\n",
       "      <td>2.0</td>\n",
       "      <td>195.0</td>\n",
       "      <td>27</td>\n",
       "      <td>59</td>\n",
       "      <td>7.3</td>\n",
       "      <td>2.4</td>\n",
       "      <td>0.40</td>\n",
       "      <td>1</td>\n",
       "    </tr>\n",
       "    <tr>\n",
       "      <th>...</th>\n",
       "      <td>...</td>\n",
       "      <td>...</td>\n",
       "      <td>...</td>\n",
       "      <td>...</td>\n",
       "      <td>...</td>\n",
       "      <td>...</td>\n",
       "      <td>...</td>\n",
       "      <td>...</td>\n",
       "      <td>...</td>\n",
       "      <td>...</td>\n",
       "      <td>...</td>\n",
       "    </tr>\n",
       "    <tr>\n",
       "      <th>582</th>\n",
       "      <td>38</td>\n",
       "      <td>Male</td>\n",
       "      <td>1.0</td>\n",
       "      <td>0.3</td>\n",
       "      <td>216.0</td>\n",
       "      <td>21</td>\n",
       "      <td>24</td>\n",
       "      <td>7.3</td>\n",
       "      <td>4.4</td>\n",
       "      <td>1.50</td>\n",
       "      <td>2</td>\n",
       "    </tr>\n",
       "    <tr>\n",
       "      <th>583</th>\n",
       "      <td>38</td>\n",
       "      <td>Male</td>\n",
       "      <td>NaN</td>\n",
       "      <td>0.3</td>\n",
       "      <td>216.0</td>\n",
       "      <td>21</td>\n",
       "      <td>24</td>\n",
       "      <td>7.3</td>\n",
       "      <td>4.4</td>\n",
       "      <td>1.50</td>\n",
       "      <td>2</td>\n",
       "    </tr>\n",
       "    <tr>\n",
       "      <th>584</th>\n",
       "      <td>38</td>\n",
       "      <td>Male</td>\n",
       "      <td>1.0</td>\n",
       "      <td>0.3</td>\n",
       "      <td>216.0</td>\n",
       "      <td>21</td>\n",
       "      <td>24</td>\n",
       "      <td>7.3</td>\n",
       "      <td>4.4</td>\n",
       "      <td>1.50</td>\n",
       "      <td>2</td>\n",
       "    </tr>\n",
       "    <tr>\n",
       "      <th>585</th>\n",
       "      <td>40</td>\n",
       "      <td>Male</td>\n",
       "      <td>0.6</td>\n",
       "      <td>0.1</td>\n",
       "      <td>98.0</td>\n",
       "      <td>35</td>\n",
       "      <td>31</td>\n",
       "      <td>6.0</td>\n",
       "      <td>3.2</td>\n",
       "      <td>1.10</td>\n",
       "      <td>1</td>\n",
       "    </tr>\n",
       "    <tr>\n",
       "      <th>586</th>\n",
       "      <td>40</td>\n",
       "      <td>Mal</td>\n",
       "      <td>0.6</td>\n",
       "      <td>0.1</td>\n",
       "      <td>98.0</td>\n",
       "      <td>35</td>\n",
       "      <td>31</td>\n",
       "      <td>6.0</td>\n",
       "      <td>3.2</td>\n",
       "      <td>1.10</td>\n",
       "      <td>1</td>\n",
       "    </tr>\n",
       "  </tbody>\n",
       "</table>\n",
       "<p>587 rows × 11 columns</p>\n",
       "</div>"
      ],
      "text/plain": [
       "     Age  Gender  TotalBilirubin  Direct_Bilirubin  Alkaline_Phosphotase  \\\n",
       "0     65  Female             0.7               0.1                 187.0   \n",
       "1     62    Male            10.9               5.5                 699.0   \n",
       "2     62    Male             7.3               4.1                 490.0   \n",
       "3     58    Male             1.0               0.4                 182.0   \n",
       "4     72    Male             3.9               2.0                 195.0   \n",
       "..   ...     ...             ...               ...                   ...   \n",
       "582   38    Male             1.0               0.3                 216.0   \n",
       "583   38    Male             NaN               0.3                 216.0   \n",
       "584   38    Male             1.0               0.3                 216.0   \n",
       "585   40    Male             0.6               0.1                  98.0   \n",
       "586   40     Mal             0.6               0.1                  98.0   \n",
       "\n",
       "     Alamine_Aminotransferase Aspartate_Aminotransferase  Total_Protiens  \\\n",
       "0                          16                         18             6.8   \n",
       "1                          64                        100             7.5   \n",
       "2                          60                         68             7.0   \n",
       "3                          14                         20             6.8   \n",
       "4                          27                         59             7.3   \n",
       "..                        ...                        ...             ...   \n",
       "582                        21                         24             7.3   \n",
       "583                        21                         24             7.3   \n",
       "584                        21                         24             7.3   \n",
       "585                        35                         31             6.0   \n",
       "586                        35                         31             6.0   \n",
       "\n",
       "     Albumin  Albumin_and_Globulin_Ratio Dataset123  \n",
       "0        3.3                        0.90          1  \n",
       "1        3.2                        0.74          1  \n",
       "2        3.3                        0.89          1  \n",
       "3        3.4                        1.00          1  \n",
       "4        2.4                        0.40          1  \n",
       "..       ...                         ...        ...  \n",
       "582      4.4                        1.50          2  \n",
       "583      4.4                        1.50          2  \n",
       "584      4.4                        1.50          2  \n",
       "585      3.2                        1.10          1  \n",
       "586      3.2                        1.10          1  \n",
       "\n",
       "[587 rows x 11 columns]"
      ]
     },
     "execution_count": 2,
     "metadata": {},
     "output_type": "execute_result"
    }
   ],
   "source": [
    "df = pd.read_csv('2liver.csv')\n",
    "df"
   ]
  },
  {
   "cell_type": "markdown",
   "id": "a7a9a3d5-7831-48cd-adc0-2371279a3053",
   "metadata": {},
   "source": [
    "Информация о датасете 2liver.csv \n",
    "\n",
    "Содержит информацию о заболеваемости печени:\n",
    "- Возраст пациента\n",
    "- Пол пациента\n",
    "- Общий билирубин\n",
    "- Прямой билирубин\n",
    "- Щелочная фосфатаза\n",
    "- Аламиноаминотрансфераза\n",
    "- Аспартатаминотрансфераза\n",
    "- Всего белков\n",
    "- Альбумин\n",
    "- Соотношение альбуминов и глобулинов\n",
    "- Цель: поле, используемое для разделения данных на два набора (пациент с заболеванием печени\n",
    "или без заболевания).\n"
   ]
  },
  {
   "cell_type": "code",
   "execution_count": 3,
   "id": "a5f18a20-dc28-4c01-a781-e61f56f9aac4",
   "metadata": {},
   "outputs": [
    {
     "name": "stdout",
     "output_type": "stream",
     "text": [
      "<class 'pandas.core.frame.DataFrame'>\n",
      "RangeIndex: 587 entries, 0 to 586\n",
      "Data columns (total 11 columns):\n",
      " #   Column                      Non-Null Count  Dtype  \n",
      "---  ------                      --------------  -----  \n",
      " 0   Age                         587 non-null    int64  \n",
      " 1   Gender                      587 non-null    object \n",
      " 2   TotalBilirubin              585 non-null    float64\n",
      " 3   Direct_Bilirubin            587 non-null    float64\n",
      " 4   Alkaline_Phosphotase        586 non-null    float64\n",
      " 5   Alamine_Aminotransferase    587 non-null    int64  \n",
      " 6   Aspartate_Aminotransferase  587 non-null    object \n",
      " 7   Total_Protiens              587 non-null    float64\n",
      " 8   Albumin                     587 non-null    float64\n",
      " 9   Albumin_and_Globulin_Ratio  583 non-null    float64\n",
      " 10  Dataset123                  587 non-null    object \n",
      "dtypes: float64(6), int64(2), object(3)\n",
      "memory usage: 50.6+ KB\n"
     ]
    }
   ],
   "source": [
    "df.info()"
   ]
  },
  {
   "cell_type": "code",
   "execution_count": 4,
   "id": "ec2befd3-fd51-45ad-9888-a0b6ece9bfe7",
   "metadata": {},
   "outputs": [
    {
     "name": "stdout",
     "output_type": "stream",
     "text": [
      "Age\n",
      "[4, 6, 7, 8, 10, 11, 12, 13, 14, 15, 16, 17, 18, 19, 20, 21, 22, 23, 24, 25, 26, 27, 28, 29, 30, 31, 32, 33, 34, 35, 36, 37, 38, 39, 40, 41, 42, 43, 44, 45, 46, 47, 48, 49, 50, 51, 52, 53, 54, 55, 56, 57, 58, 60, 61, 62, 63, 64, 65, 66, 67, 68, 69, 70, 72, 73, 74, 75, 78, 84, 85, 90]\n",
      "\n",
      "Gender\n",
      "['Female', 'Mal', 'Male']\n",
      "\n",
      "TotalBilirubin\n",
      "[0.4, 0.5, 0.6, 0.7, 0.8, 0.9, 1.0, 1.1, 1.2, 1.3, 1.4, 1.5, 1.6, 1.7, 1.8, 1.9, 2.0, 2.1, 2.2, 2.3, 2.4, 2.5, 2.6, 2.7, 2.8, 2.9, 3.0, 3.1, 3.2, 3.3, 3.4, 3.5, 3.6, 3.7, 3.8, 3.9, 4.0, 4.1, 4.2, 4.4, 4.5, 4.7, 4.9, 5.0, 5.2, 5.3, 5.5, 5.7, 5.8, 5.9, 6.2, 6.3, 6.6, 6.7, 6.8, 7.1, 7.3, 7.4, 7.5, 7.7, 7.9, 8.0, 8.2, 8.6, 8.7, 8.9, 9.4, 10.2, 10.6, 10.9, 11.0, 11.1, 11.3, 11.5, 12.1, 12.7, 14.1, 14.2, 14.5, 14.8, 15.0, 15.2, 15.6, 15.8, 15.9, 16.4, 16.6, 16.7, 17.3, 17.7, 18.0, 18.4, 18.5, 19.6, 19.8, 20.0, 20.2, 22.5, 22.6, 22.7, 22.8, 23.0, 23.2, 23.3, 25.0, 26.3, 27.2, 27.7, 30.5, 30.8, 32.6, 42.8, 75.0, nan]\n",
      "\n",
      "Direct_Bilirubin\n",
      "[0.1, 0.2, 0.3, 0.4, 0.5, 0.6, 0.7, 0.8, 0.9, 1.0, 1.1, 1.2, 1.3, 1.4, 1.5, 1.6, 1.7, 1.8, 1.9, 2.0, 2.1, 2.2, 2.3, 2.4, 2.5, 2.6, 2.7, 2.8, 2.9, 3.0, 3.2, 3.3, 3.6, 3.7, 3.9, 4.0, 4.1, 4.2, 4.3, 4.5, 4.6, 4.9, 5.0, 5.1, 5.2, 5.5, 5.6, 6.0, 6.1, 6.2, 6.4, 7.0, 7.2, 7.6, 7.7, 7.8, 8.2, 8.4, 8.5, 8.8, 8.9, 9.0, 9.5, 10.0, 10.2, 10.4, 10.8, 11.3, 11.4, 11.7, 11.8, 12.1, 12.6, 12.8, 13.7, 14.1, 14.2, 17.1, 18.3, 19.7]\n",
      "\n",
      "Alkaline_Phosphotase\n",
      "[63.0, 75.0, 90.0, 92.0, 97.0, 98.0, 100.0, 102.0, 103.0, 105.0, 106.0, 108.0, 110.0, 115.0, 116.0, 120.0, 123.0, 125.0, 127.0, 128.0, 130.0, 134.0, 135.0, 137.0, 138.0, 140.0, 142.0, 143.0, 144.0, 145.0, 146.0, 147.0, 148.0, 149.0, 150.0, 151.0, 152.0, 153.0, 154.0, 155.0, 156.0, 157.0, 158.0, 159.0, 160.0, 161.0, 162.0, 163.0, 164.0, 165.0, 166.0, 167.0, 168.0, 169.0, 170.0, 171.0, 172.0, 173.0, 174.0, 175.0, 176.0, 177.0, 178.0, 179.0, 180.0, 181.0, 182.0, 183.0, 184.0, 185.0, 186.0, 187.0, 188.0, 189.0, 190.0, 191.0, 192.0, 193.0, 194.0, 195.0, 196.0, 197.0, 198.0, 199.0, 200.0, 201.0, 202.0, 204.0, 205.0, 206.0, 208.0, 209.0, 210.0, 211.0, 212.0, 214.0, 215.0, 216.0, 218.0, 219.0, 220.0, 224.0, 225.0, 226.0, 227.0, 228.0, 230.0, 231.0, 232.0, 234.0, 235.0, 236.0, 237.0, 238.0, 239.0, 240.0, 243.0, 245.0, 246.0, 247.0, 248.0, 250.0, 251.0, 253.0, 254.0, 256.0, 257.0, 258.0, 259.0, 260.0, 262.0, 263.0, 265.0, 268.0, 269.0, 270.0, 271.0, 272.0, 275.0, 276.0, 279.0, 280.0, 282.0, 285.0, 286.0, 289.0, 290.0, 292.0, 293.0, 298.0, 300.0, 302.0, 305.0, 308.0, 309.0, 310.0, 312.0, 314.0, 315.0, 316.0, 320.0, 326.0, 331.0, 332.0, 335.0, 340.0, 342.0, 348.0, 349.0, 350.0, 352.0, 356.0, 358.0, 360.0, 365.0, 367.0, 374.0, 375.0, 380.0, 386.0, 388.0, 390.0, 392.0, 395.0, 400.0, 401.0, 405.0, 406.0, 410.0, 415.0, 418.0, 430.0, 450.0, 458.0, 460.0, 462.0, 466.0, 470.0, 480.0, 482.0, 486.0, 490.0, 498.0, 500.0, 505.0, 509.0, 512.0, 515.0, 518.0, 527.0, 538.0, 542.0, 554.0, 555.0, 558.0, 560.0, 562.0, 574.0, 575.0, 580.0, 588.0, 592.0, 599.0, 610.0, 612.0, 614.0, 621.0, 630.0, 650.0, 661.0, 664.0, 670.0, 680.0, 686.0, 690.0, 699.0, 719.0, 750.0, 768.0, 802.0, 805.0, 850.0, 859.0, 862.0, 901.0, 915.0, 950.0, 962.0, 1020.0, 1050.0, 1100.0, 1110.0, 1124.0, 1350.0, 1420.0, 1550.0, 1580.0, 1620.0, 1630.0, 1750.0, 1896.0, 2110.0, nan]\n",
      "\n",
      "Alamine_Aminotransferase\n",
      "[10, 11, 12, 13, 14, 15, 16, 17, 18, 19, 20, 21, 22, 23, 24, 25, 26, 27, 28, 29, 30, 31, 32, 33, 34, 35, 36, 37, 38, 39, 40, 41, 42, 43, 44, 45, 46, 47, 48, 49, 50, 51, 52, 53, 54, 55, 56, 57, 58, 59, 60, 61, 62, 63, 64, 65, 67, 68, 69, 70, 71, 72, 74, 75, 76, 78, 79, 80, 82, 84, 85, 86, 88, 89, 90, 91, 93, 94, 95, 96, 97, 99, 102, 107, 110, 112, 114, 115, 116, 118, 119, 120, 123, 126, 131, 132, 133, 137, 139, 140, 141, 142, 148, 149, 152, 154, 155, 157, 159, 160, 166, 168, 173, 178, 179, 181, 189, 190, 194, 196, 198, 205, 213, 220, 230, 232, 233, 284, 308, 321, 322, 349, 378, 382, 390, 404, 407, 412, 425, 440, 482, 509, 622, 779, 790, 875, 950, 1250, 1350, 1630, 1680, 2000]\n",
      "\n",
      "Aspartate_Aminotransferase\n",
      "['10', '100', '101', '102', '103', '104', '105', '1050', '108', '11', '110', '111', '113', '114', '116', '12', '125', '126', '127', '13', '130', '134', '135', '138', '139', '14', '140', '141', '142', '143', '145', '148', '149', '15', '150', '1500', '152', '155', '156', '16', '1600', '161', '168', '17', '176', '178', '18', '180', '181', '185', '186', '187', '188', '19', '190', '20', '200', '202', '21', '22', '220', '221', '23', '230', '231', '232', '233', '235', '236', '24', '245', '247', '248', '25', '250', '26', '27', '275', '28', '285', '29', '2946', '298', '30', '31', '32', '33', '330', '34', '348', '35', '350', '36', '367', '368', '37', '38', '384', '39', '397', '3a4', '40', '400', '401', '405', '406', '41', '42', '43', '44', '441', '45', '46', '47', '48', '49', '4929', '497', '50', '500', '51', '511', '52', '53', '54', '540', '55', '56', '562', '57', '576', '58', '59', '60', '602', '61', '62', '623', '63', '630', '64', '65', '66', '67', '68', '70', '71', '72', '73', '731', '74', '75', '76', '77', '78', '79', '794', '80', '81', '82', '83', '84', '844', '85', '850', '86', '87', '88', '89', '90', '91', '92', '95', '950', '960', '97', '98', '99']\n",
      "\n",
      "Total_Protiens\n",
      "[2.7, 2.8, 3.0, 3.6, 3.7, 3.8, 3.9, 4.0, 4.1, 4.3, 4.4, 4.5, 4.6, 4.7, 4.8, 4.9, 5.0, 5.1, 5.2, 5.3, 5.4, 5.5, 5.6, 5.7, 5.8, 5.9, 6.0, 6.1, 6.2, 6.3, 6.4, 6.5, 6.6, 6.7, 6.8, 6.9, 7.0, 7.1, 7.2, 7.3, 7.4, 7.5, 7.6, 7.7, 7.8, 7.9, 8.0, 8.1, 8.2, 8.3, 8.4, 8.5, 8.6, 8.7, 8.9, 9.2, 9.5, 9.6]\n",
      "\n",
      "Albumin\n",
      "[0.9, 1.0, 1.4, 1.5, 1.6, 1.7, 1.8, 1.9, 2.0, 2.1, 2.2, 2.3, 2.4, 2.5, 2.6, 2.7, 2.8, 2.9, 3.0, 3.1, 3.2, 3.3, 3.4, 3.5, 3.6, 3.7, 3.8, 3.9, 4.0, 4.1, 4.2, 4.3, 4.4, 4.5, 4.6, 4.7, 4.8, 4.9, 5.0, 5.5]\n",
      "\n",
      "Albumin_and_Globulin_Ratio\n",
      "[0.3, 0.35, 0.37, 0.39, 0.4, 0.45, 0.46, 0.47, 0.48, 0.5, 0.52, 0.53, 0.55, 0.58, 0.6, 0.61, 0.62, 0.64, 0.67, 0.68, 0.69, 0.7, 0.71, 0.74, 0.75, 0.76, 0.78, 0.8, 0.87, 0.88, 0.89, 0.9, 0.92, 0.93, 0.95, 0.96, 0.97, 1.0, 1.02, 1.03, 1.06, 1.09, 1.1, 1.11, 1.12, 1.16, 1.18, 1.2, 1.25, 1.27, 1.3, 1.34, 1.36, 1.38, 1.39, 1.4, 1.5, nan, 1.51, 1.55, 1.58, 1.6, 1.66, 1.7, 1.72, 1.8, 1.85, 1.9, 2.5, 2.8]\n",
      "\n",
      "Dataset123\n",
      "['1', '2', 'yes']\n",
      "\n"
     ]
    }
   ],
   "source": [
    "for i in df.columns:\n",
    "    print(i, sorted(df[i].unique()), end = '\\n\\n', sep = '\\n')"
   ]
  },
  {
   "cell_type": "markdown",
   "id": "e0f63cf3-61c1-465d-ab9f-96f762576633",
   "metadata": {},
   "source": [
    "Произведена замена названий колонок, проведён Label encoding (0 - Женщина, 1 - Мужчина)"
   ]
  },
  {
   "cell_type": "code",
   "execution_count": 5,
   "id": "398df8fb-4557-4425-aa66-ffaa319478fe",
   "metadata": {},
   "outputs": [],
   "source": [
    "df = df.rename(columns={'Dataset123': 'Bool'})\n",
    "df = df.dropna()\n",
    "df.loc[:, 'Aspartate_Aminotransferase'] = df['Aspartate_Aminotransferase'].replace('3a4','34')\n",
    "df.loc[:, 'Bool'] = df['Bool'].replace('yes','1')\n",
    "df.loc[:, 'Gender'] = df['Gender'].replace('Female','0').replace('Male','1').replace('Mal','1')\n",
    "df = df.apply(pd.to_numeric, errors='coerce')\n",
    "df = df.astype('float')"
   ]
  },
  {
   "cell_type": "raw",
   "id": "3d709a31-af32-42b5-b881-de62bfb21d2a",
   "metadata": {},
   "source": [
    "Разделение на признаки, выделение целевой переменной"
   ]
  },
  {
   "cell_type": "code",
   "execution_count": 6,
   "id": "308cc9c6-180d-40dd-84c8-a2482bdc32e9",
   "metadata": {},
   "outputs": [],
   "source": [
    "X = df.drop(columns=['Bool']) \n",
    "y = df['Bool']"
   ]
  },
  {
   "cell_type": "code",
   "execution_count": 7,
   "id": "12f58e78-5eed-4808-b79e-bd1e426beb9e",
   "metadata": {},
   "outputs": [],
   "source": [
    "scaler = StandardScaler()\n",
    "X_scaled = scaler.fit_transform(X)"
   ]
  },
  {
   "cell_type": "code",
   "execution_count": 8,
   "id": "4398a49c-f614-4dbc-a92c-660612a6a74a",
   "metadata": {},
   "outputs": [],
   "source": [
    "X_train, X_test, Y_train, Y_test = train_test_split(X_scaled,y,test_size=0.25,\n",
    "                                                    random_state=42)"
   ]
  },
  {
   "cell_type": "markdown",
   "id": "0f178f2d-15a4-4d21-8cf3-f8cef0bd7697",
   "metadata": {},
   "source": [
    "Были разработаны следующие модели:\n",
    "- метод k- ближайших соседей\n",
    "- логистическая регрессия\n",
    "- дерево решений\n",
    "- случайный лес  \n"
   ]
  },
  {
   "cell_type": "code",
   "execution_count": 9,
   "id": "f79a4023-b9e5-47df-bb9d-9d174a033166",
   "metadata": {},
   "outputs": [
    {
     "name": "stdout",
     "output_type": "stream",
     "text": [
      "              precision    recall  f1-score   support\n",
      "\n",
      "         1.0       0.77      0.81      0.79       105\n",
      "         2.0       0.43      0.38      0.40        40\n",
      "\n",
      "    accuracy                           0.69       145\n",
      "   macro avg       0.60      0.59      0.60       145\n",
      "weighted avg       0.68      0.69      0.68       145\n",
      "\n",
      "balanced accuracy:  0.5922619047619048\n",
      "accuracy:  0.6896551724137931\n",
      "precision:  0.7727272727272727\n",
      "recall:  0.8095238095238095\n",
      "f1:  0.7906976744186046\n"
     ]
    }
   ],
   "source": [
    "KNeighborsClassifier = KNeighborsClassifier()\n",
    "KNeighborsClassifier.fit(X_train, Y_train)\n",
    "\n",
    "y_pred_neighbors = KNeighborsClassifier.predict(X_test)\n",
    "\n",
    "acc = accuracy_score(Y_test, y_pred_neighbors)\n",
    "precision = precision_score(Y_test, y_pred_neighbors)\n",
    "recall = recall_score(Y_test, y_pred_neighbors)\n",
    "f1 = f1_score(Y_test, y_pred_neighbors)\n",
    "balanced_accuracy = balanced_accuracy_score(Y_test, y_pred_neighbors)\n",
    "print(classification_report(Y_test, y_pred_neighbors))\n",
    "print('balanced accuracy: ', balanced_accuracy)\n",
    "print('accuracy: ', acc)\n",
    "print('precision: ', precision)\n",
    "print('recall: ', recall)\n",
    "print('f1: ', f1)"
   ]
  },
  {
   "cell_type": "code",
   "execution_count": 13,
   "id": "ad1d5f88-557a-4f6e-a97f-7ec8bf92265b",
   "metadata": {},
   "outputs": [
    {
     "data": {
      "text/plain": [
       "array([[85, 20],\n",
       "       [25, 15]], dtype=int64)"
      ]
     },
     "execution_count": 13,
     "metadata": {},
     "output_type": "execute_result"
    }
   ],
   "source": [
    "confusion_matrix(Y_test,y_pred_neighbors)"
   ]
  },
  {
   "cell_type": "code",
   "execution_count": 10,
   "id": "f149f343-55ee-4894-ba78-4351cd3c02fe",
   "metadata": {},
   "outputs": [
    {
     "name": "stdout",
     "output_type": "stream",
     "text": [
      "              precision    recall  f1-score   support\n",
      "\n",
      "         1.0       0.74      0.94      0.83       105\n",
      "         2.0       0.45      0.12      0.20        40\n",
      "\n",
      "    accuracy                           0.72       145\n",
      "   macro avg       0.60      0.53      0.51       145\n",
      "weighted avg       0.66      0.72      0.65       145\n",
      "\n",
      "balanced accuracy:  0.5339285714285714\n",
      "accuracy:  0.7172413793103448\n",
      "precision:  0.7388059701492538\n",
      "recall:  0.9428571428571428\n",
      "f1:  0.8284518828451883\n"
     ]
    }
   ],
   "source": [
    "LogisticRegression = LogisticRegression()\n",
    "LogisticRegression.fit(X_train, Y_train)\n",
    "y_pred_log_regress = LogisticRegression.predict(X_test)\n",
    "\n",
    "acc = accuracy_score(Y_test, y_pred_log_regress)\n",
    "precision = precision_score(Y_test, y_pred_log_regress)\n",
    "recall = recall_score(Y_test, y_pred_log_regress)\n",
    "f1 = f1_score(Y_test, y_pred_log_regress)\n",
    "balanced_accuracy = balanced_accuracy_score(Y_test, y_pred_log_regress)\n",
    "print(classification_report(Y_test, y_pred_log_regress))\n",
    "print('balanced accuracy: ', balanced_accuracy)\n",
    "print('accuracy: ', acc)\n",
    "print('precision: ', precision)\n",
    "print('recall: ', recall)\n",
    "print('f1: ', f1)"
   ]
  },
  {
   "cell_type": "code",
   "execution_count": 14,
   "id": "cf7cf500-e14d-479d-b0af-4414b7946903",
   "metadata": {},
   "outputs": [
    {
     "data": {
      "text/plain": [
       "array([[99,  6],\n",
       "       [35,  5]], dtype=int64)"
      ]
     },
     "execution_count": 14,
     "metadata": {},
     "output_type": "execute_result"
    }
   ],
   "source": [
    "confusion_matrix(Y_test,y_pred_log_regress)"
   ]
  },
  {
   "cell_type": "code",
   "execution_count": 11,
   "id": "164dda9c-af29-4bcf-90d4-b7774f9849bc",
   "metadata": {},
   "outputs": [
    {
     "name": "stdout",
     "output_type": "stream",
     "text": [
      "              precision    recall  f1-score   support\n",
      "\n",
      "         1.0       0.74      0.94      0.83       105\n",
      "         2.0       0.45      0.12      0.20        40\n",
      "\n",
      "    accuracy                           0.72       145\n",
      "   macro avg       0.60      0.53      0.51       145\n",
      "weighted avg       0.66      0.72      0.65       145\n",
      "\n",
      "balanced accuracy:  0.6386904761904761\n",
      "accuracy:  0.6896551724137931\n",
      "precision:  0.8061224489795918\n",
      "recall:  0.7523809523809524\n",
      "f1:  0.7783251231527094\n"
     ]
    }
   ],
   "source": [
    "DecisionTreeClassifier = DecisionTreeClassifier()\n",
    "DecisionTreeClassifier.fit(X_train, Y_train)\n",
    "y_pred_tree = DecisionTreeClassifier.predict(X_test)\n",
    "\n",
    "acc = accuracy_score(Y_test, y_pred_tree)\n",
    "precision = precision_score(Y_test, y_pred_tree)\n",
    "recall = recall_score(Y_test, y_pred_tree)\n",
    "f1 = f1_score(Y_test, y_pred_tree)\n",
    "balanced_accuracy = balanced_accuracy_score(Y_test, y_pred_tree)\n",
    "print(classification_report(Y_test, y_pred_tree))\n",
    "print('balanced accuracy: ', balanced_accuracy)\n",
    "print('accuracy: ', acc)\n",
    "print('precision: ', precision)\n",
    "print('recall: ', recall)\n",
    "print('f1: ', f1)"
   ]
  },
  {
   "cell_type": "code",
   "execution_count": 15,
   "id": "431d5a7f-9d94-4ebd-a1be-cc19ef035dc3",
   "metadata": {},
   "outputs": [
    {
     "data": {
      "text/plain": [
       "array([[79, 26],\n",
       "       [19, 21]], dtype=int64)"
      ]
     },
     "execution_count": 15,
     "metadata": {},
     "output_type": "execute_result"
    }
   ],
   "source": [
    "confusion_matrix(Y_test,y_pred_tree)"
   ]
  },
  {
   "cell_type": "code",
   "execution_count": 12,
   "id": "c62a0281-7ad7-4d36-b535-c3ea2497758b",
   "metadata": {},
   "outputs": [
    {
     "name": "stdout",
     "output_type": "stream",
     "text": [
      "              precision    recall  f1-score   support\n",
      "\n",
      "         1.0       0.76      0.86      0.80       105\n",
      "         2.0       0.42      0.28      0.33        40\n",
      "\n",
      "    accuracy                           0.70       145\n",
      "   macro avg       0.59      0.57      0.57       145\n",
      "weighted avg       0.66      0.70      0.67       145\n",
      "\n",
      "balanced accuracy:  0.5660714285714286\n",
      "accuracy:  0.696551724137931\n",
      "precision:  0.7563025210084033\n",
      "recall:  0.8571428571428571\n",
      "f1:  0.8035714285714286\n"
     ]
    }
   ],
   "source": [
    "RandomForestClassifier = RandomForestClassifier()\n",
    "RandomForestClassifier.fit(X_train, Y_train)\n",
    "y_pred_forest = RandomForestClassifier.predict(X_test)\n",
    "\n",
    "acc = accuracy_score(Y_test, y_pred_forest)\n",
    "precision = precision_score(Y_test, y_pred_forest)\n",
    "recall = recall_score(Y_test, y_pred_forest)\n",
    "f1 = f1_score(Y_test, y_pred_forest)\n",
    "balanced_accuracy = balanced_accuracy_score(Y_test, y_pred_forest)\n",
    "print(classification_report(Y_test, y_pred_forest))\n",
    "print('balanced accuracy: ', balanced_accuracy)\n",
    "print('accuracy: ', acc)\n",
    "print('precision: ', precision)\n",
    "print('recall: ', recall)\n",
    "print('f1: ', f1)"
   ]
  },
  {
   "cell_type": "code",
   "execution_count": 20,
   "id": "1259d742-215b-4375-ae34-1744abea815b",
   "metadata": {},
   "outputs": [
    {
     "ename": "KeyError",
     "evalue": "\"'cold' is not a known colormap name\"",
     "output_type": "error",
     "traceback": [
      "\u001b[1;31m---------------------------------------------------------------------------\u001b[0m",
      "\u001b[1;31mKeyError\u001b[0m                                  Traceback (most recent call last)",
      "Cell \u001b[1;32mIn[20], line 1\u001b[0m\n\u001b[1;32m----> 1\u001b[0m \u001b[43msns\u001b[49m\u001b[38;5;241;43m.\u001b[39;49m\u001b[43mheatmap\u001b[49m\u001b[43m(\u001b[49m\u001b[43mconfusion_matrix\u001b[49m\u001b[43m(\u001b[49m\u001b[43mY_test\u001b[49m\u001b[43m,\u001b[49m\u001b[43my_pred_forest\u001b[49m\u001b[43m)\u001b[49m\u001b[43m,\u001b[49m\u001b[43m \u001b[49m\u001b[43mannot\u001b[49m\u001b[38;5;241;43m=\u001b[39;49m\u001b[38;5;28;43;01mTrue\u001b[39;49;00m\u001b[43m,\u001b[49m\u001b[43m \u001b[49m\u001b[43mcmap\u001b[49m\u001b[38;5;241;43m=\u001b[39;49m\u001b[38;5;124;43m'\u001b[39;49m\u001b[38;5;124;43mcold\u001b[39;49m\u001b[38;5;124;43m'\u001b[39;49m\u001b[43m)\u001b[49m\n\u001b[0;32m      2\u001b[0m plt\u001b[38;5;241m.\u001b[39mtitle(\u001b[38;5;124m\"\u001b[39m\u001b[38;5;124mМатрица неточностей (Confusion Matrix)\u001b[39m\u001b[38;5;124m\"\u001b[39m, fontsize\u001b[38;5;241m=\u001b[39m\u001b[38;5;241m14\u001b[39m);\n\u001b[0;32m      3\u001b[0m plt\u001b[38;5;241m.\u001b[39mylabel(\u001b[38;5;124m'\u001b[39m\u001b[38;5;124mИстинные значения\u001b[39m\u001b[38;5;124m'\u001b[39m)\n",
      "File \u001b[1;32m~\\anaconda3\\envs\\data_science\\lib\\site-packages\\seaborn\\matrix.py:446\u001b[0m, in \u001b[0;36mheatmap\u001b[1;34m(data, vmin, vmax, cmap, center, robust, annot, fmt, annot_kws, linewidths, linecolor, cbar, cbar_kws, cbar_ax, square, xticklabels, yticklabels, mask, ax, **kwargs)\u001b[0m\n\u001b[0;32m    365\u001b[0m \u001b[38;5;250m\u001b[39m\u001b[38;5;124;03m\"\"\"Plot rectangular data as a color-encoded matrix.\u001b[39;00m\n\u001b[0;32m    366\u001b[0m \n\u001b[0;32m    367\u001b[0m \u001b[38;5;124;03mThis is an Axes-level function and will draw the heatmap into the\u001b[39;00m\n\u001b[1;32m   (...)\u001b[0m\n\u001b[0;32m    443\u001b[0m \n\u001b[0;32m    444\u001b[0m \u001b[38;5;124;03m\"\"\"\u001b[39;00m\n\u001b[0;32m    445\u001b[0m \u001b[38;5;66;03m# Initialize the plotter object\u001b[39;00m\n\u001b[1;32m--> 446\u001b[0m plotter \u001b[38;5;241m=\u001b[39m \u001b[43m_HeatMapper\u001b[49m\u001b[43m(\u001b[49m\u001b[43mdata\u001b[49m\u001b[43m,\u001b[49m\u001b[43m \u001b[49m\u001b[43mvmin\u001b[49m\u001b[43m,\u001b[49m\u001b[43m \u001b[49m\u001b[43mvmax\u001b[49m\u001b[43m,\u001b[49m\u001b[43m \u001b[49m\u001b[43mcmap\u001b[49m\u001b[43m,\u001b[49m\u001b[43m \u001b[49m\u001b[43mcenter\u001b[49m\u001b[43m,\u001b[49m\u001b[43m \u001b[49m\u001b[43mrobust\u001b[49m\u001b[43m,\u001b[49m\u001b[43m \u001b[49m\u001b[43mannot\u001b[49m\u001b[43m,\u001b[49m\u001b[43m \u001b[49m\u001b[43mfmt\u001b[49m\u001b[43m,\u001b[49m\n\u001b[0;32m    447\u001b[0m \u001b[43m                      \u001b[49m\u001b[43mannot_kws\u001b[49m\u001b[43m,\u001b[49m\u001b[43m \u001b[49m\u001b[43mcbar\u001b[49m\u001b[43m,\u001b[49m\u001b[43m \u001b[49m\u001b[43mcbar_kws\u001b[49m\u001b[43m,\u001b[49m\u001b[43m \u001b[49m\u001b[43mxticklabels\u001b[49m\u001b[43m,\u001b[49m\n\u001b[0;32m    448\u001b[0m \u001b[43m                      \u001b[49m\u001b[43myticklabels\u001b[49m\u001b[43m,\u001b[49m\u001b[43m \u001b[49m\u001b[43mmask\u001b[49m\u001b[43m)\u001b[49m\n\u001b[0;32m    450\u001b[0m \u001b[38;5;66;03m# Add the pcolormesh kwargs here\u001b[39;00m\n\u001b[0;32m    451\u001b[0m kwargs[\u001b[38;5;124m\"\u001b[39m\u001b[38;5;124mlinewidths\u001b[39m\u001b[38;5;124m\"\u001b[39m] \u001b[38;5;241m=\u001b[39m linewidths\n",
      "File \u001b[1;32m~\\anaconda3\\envs\\data_science\\lib\\site-packages\\seaborn\\matrix.py:163\u001b[0m, in \u001b[0;36m_HeatMapper.__init__\u001b[1;34m(self, data, vmin, vmax, cmap, center, robust, annot, fmt, annot_kws, cbar, cbar_kws, xticklabels, yticklabels, mask)\u001b[0m\n\u001b[0;32m    160\u001b[0m \u001b[38;5;28mself\u001b[39m\u001b[38;5;241m.\u001b[39mylabel \u001b[38;5;241m=\u001b[39m ylabel \u001b[38;5;28;01mif\u001b[39;00m ylabel \u001b[38;5;129;01mis\u001b[39;00m \u001b[38;5;129;01mnot\u001b[39;00m \u001b[38;5;28;01mNone\u001b[39;00m \u001b[38;5;28;01melse\u001b[39;00m \u001b[38;5;124m\"\u001b[39m\u001b[38;5;124m\"\u001b[39m\n\u001b[0;32m    162\u001b[0m \u001b[38;5;66;03m# Determine good default values for the colormapping\u001b[39;00m\n\u001b[1;32m--> 163\u001b[0m \u001b[38;5;28;43mself\u001b[39;49m\u001b[38;5;241;43m.\u001b[39;49m\u001b[43m_determine_cmap_params\u001b[49m\u001b[43m(\u001b[49m\u001b[43mplot_data\u001b[49m\u001b[43m,\u001b[49m\u001b[43m \u001b[49m\u001b[43mvmin\u001b[49m\u001b[43m,\u001b[49m\u001b[43m \u001b[49m\u001b[43mvmax\u001b[49m\u001b[43m,\u001b[49m\n\u001b[0;32m    164\u001b[0m \u001b[43m                            \u001b[49m\u001b[43mcmap\u001b[49m\u001b[43m,\u001b[49m\u001b[43m \u001b[49m\u001b[43mcenter\u001b[49m\u001b[43m,\u001b[49m\u001b[43m \u001b[49m\u001b[43mrobust\u001b[49m\u001b[43m)\u001b[49m\n\u001b[0;32m    166\u001b[0m \u001b[38;5;66;03m# Sort out the annotations\u001b[39;00m\n\u001b[0;32m    167\u001b[0m \u001b[38;5;28;01mif\u001b[39;00m annot \u001b[38;5;129;01mis\u001b[39;00m \u001b[38;5;28;01mNone\u001b[39;00m \u001b[38;5;129;01mor\u001b[39;00m annot \u001b[38;5;129;01mis\u001b[39;00m \u001b[38;5;28;01mFalse\u001b[39;00m:\n",
      "File \u001b[1;32m~\\anaconda3\\envs\\data_science\\lib\\site-packages\\seaborn\\matrix.py:217\u001b[0m, in \u001b[0;36m_HeatMapper._determine_cmap_params\u001b[1;34m(self, plot_data, vmin, vmax, cmap, center, robust)\u001b[0m\n\u001b[0;32m    215\u001b[0m         \u001b[38;5;28mself\u001b[39m\u001b[38;5;241m.\u001b[39mcmap \u001b[38;5;241m=\u001b[39m cm\u001b[38;5;241m.\u001b[39micefire\n\u001b[0;32m    216\u001b[0m \u001b[38;5;28;01melif\u001b[39;00m \u001b[38;5;28misinstance\u001b[39m(cmap, \u001b[38;5;28mstr\u001b[39m):\n\u001b[1;32m--> 217\u001b[0m     \u001b[38;5;28mself\u001b[39m\u001b[38;5;241m.\u001b[39mcmap \u001b[38;5;241m=\u001b[39m \u001b[43mget_colormap\u001b[49m\u001b[43m(\u001b[49m\u001b[43mcmap\u001b[49m\u001b[43m)\u001b[49m\n\u001b[0;32m    218\u001b[0m \u001b[38;5;28;01melif\u001b[39;00m \u001b[38;5;28misinstance\u001b[39m(cmap, \u001b[38;5;28mlist\u001b[39m):\n\u001b[0;32m    219\u001b[0m     \u001b[38;5;28mself\u001b[39m\u001b[38;5;241m.\u001b[39mcmap \u001b[38;5;241m=\u001b[39m mpl\u001b[38;5;241m.\u001b[39mcolors\u001b[38;5;241m.\u001b[39mListedColormap(cmap)\n",
      "File \u001b[1;32m~\\anaconda3\\envs\\data_science\\lib\\site-packages\\seaborn\\_compat.py:62\u001b[0m, in \u001b[0;36mget_colormap\u001b[1;34m(name)\u001b[0m\n\u001b[0;32m     60\u001b[0m \u001b[38;5;250m\u001b[39m\u001b[38;5;124;03m\"\"\"Handle changes to matplotlib colormap interface in 3.6.\"\"\"\u001b[39;00m\n\u001b[0;32m     61\u001b[0m \u001b[38;5;28;01mtry\u001b[39;00m:\n\u001b[1;32m---> 62\u001b[0m     \u001b[38;5;28;01mreturn\u001b[39;00m \u001b[43mmpl\u001b[49m\u001b[38;5;241;43m.\u001b[39;49m\u001b[43mcolormaps\u001b[49m\u001b[43m[\u001b[49m\u001b[43mname\u001b[49m\u001b[43m]\u001b[49m\n\u001b[0;32m     63\u001b[0m \u001b[38;5;28;01mexcept\u001b[39;00m \u001b[38;5;167;01mAttributeError\u001b[39;00m:\n\u001b[0;32m     64\u001b[0m     \u001b[38;5;28;01mreturn\u001b[39;00m mpl\u001b[38;5;241m.\u001b[39mcm\u001b[38;5;241m.\u001b[39mget_cmap(name)\n",
      "File \u001b[1;32m~\\anaconda3\\envs\\data_science\\lib\\site-packages\\matplotlib\\cm.py:82\u001b[0m, in \u001b[0;36mColormapRegistry.__getitem__\u001b[1;34m(self, item)\u001b[0m\n\u001b[0;32m     80\u001b[0m     \u001b[38;5;28;01mreturn\u001b[39;00m \u001b[38;5;28mself\u001b[39m\u001b[38;5;241m.\u001b[39m_cmaps[item]\u001b[38;5;241m.\u001b[39mcopy()\n\u001b[0;32m     81\u001b[0m \u001b[38;5;28;01mexcept\u001b[39;00m \u001b[38;5;167;01mKeyError\u001b[39;00m:\n\u001b[1;32m---> 82\u001b[0m     \u001b[38;5;28;01mraise\u001b[39;00m \u001b[38;5;167;01mKeyError\u001b[39;00m(\u001b[38;5;124mf\u001b[39m\u001b[38;5;124m\"\u001b[39m\u001b[38;5;132;01m{\u001b[39;00mitem\u001b[38;5;132;01m!r}\u001b[39;00m\u001b[38;5;124m is not a known colormap name\u001b[39m\u001b[38;5;124m\"\u001b[39m) \u001b[38;5;28;01mfrom\u001b[39;00m \u001b[38;5;28;01mNone\u001b[39;00m\n",
      "\u001b[1;31mKeyError\u001b[0m: \"'cold' is not a known colormap name\""
     ]
    }
   ],
   "source": [
    "sns.heatmap(confusion_matrix(Y_test,y_pred_forest), annot=True, cmap='cold')\n",
    "plt.title(\"Матрица неточностей (Confusion Matrix)\", fontsize=14);\n",
    "plt.ylabel('Истинные значения')\n",
    "plt.xlabel('Предсказанные значения')"
   ]
  },
  {
   "cell_type": "markdown",
   "id": "391cd166-3bf5-4cd3-95e5-1a53d011827d",
   "metadata": {},
   "source": [
    "\n",
    "- True Positive – TP («истинно положительные») [0,0] – прогноз модели 1, реальное значение 1;\n",
    "- False Positive – FP («ложно положительные») [0,1] – прогноз модели 1, реальное значение 0;\n",
    "- False Negative – FN («ложно отрицательные») [1,0] – прогноз модели 0, реальное значение 1;\n",
    "- True Negative– TP («истинно отрицательные») [1,1]– прогноз модели 0, реальное значение 0."
   ]
  },
  {
   "cell_type": "code",
   "execution_count": null,
   "id": "e3f47ef0-b15d-41ee-817d-f5059c5942eb",
   "metadata": {},
   "outputs": [],
   "source": []
  }
 ],
 "metadata": {
  "kernelspec": {
   "display_name": "data_science",
   "language": "python",
   "name": "myenv"
  },
  "language_info": {
   "codemirror_mode": {
    "name": "ipython",
    "version": 3
   },
   "file_extension": ".py",
   "mimetype": "text/x-python",
   "name": "python",
   "nbconvert_exporter": "python",
   "pygments_lexer": "ipython3",
   "version": "3.10.12"
  }
 },
 "nbformat": 4,
 "nbformat_minor": 5
}
