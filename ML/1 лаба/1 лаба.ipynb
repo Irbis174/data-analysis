{
 "cells": [
  {
   "cell_type": "code",
   "execution_count": 1,
   "id": "c3115a89-eb40-44ac-a9b0-2285dec4c7cf",
   "metadata": {},
   "outputs": [],
   "source": [
    "import kagglehub\n",
    "from kaggle.api.kaggle_api_extended import KaggleApi\n",
    "import os\n",
    "import re\n",
    "\n",
    "import torch\n",
    "import torch.nn as nn\n",
    "import torch.optim as optim\n",
    "from torch.utils.data import DataLoader, TensorDataset\n",
    "from sklearn.model_selection import train_test_split\n",
    "from collections import Counter\n",
    "import re\n",
    "\n",
    "import pandas as pd\n",
    "import numpy as np\n",
    "\n",
    "import matplotlib.pyplot as plt\n",
    "import seaborn as sns\n",
    "\n",
    "import time"
   ]
  },
  {
   "cell_type": "code",
   "execution_count": 2,
   "id": "9fe208d0-1710-4a4c-aa00-a84ce64caea8",
   "metadata": {},
   "outputs": [],
   "source": [
    "api = KaggleApi()\n",
    "api.authenticate()"
   ]
  },
  {
   "cell_type": "code",
   "execution_count": 3,
   "id": "3ff62fed-0179-4123-bc76-82d3f9c286bc",
   "metadata": {},
   "outputs": [
    {
     "name": "stdout",
     "output_type": "stream",
     "text": [
      "Active code page: 65001\n"
     ]
    }
   ],
   "source": [
    "!chcp 65001\n",
    "path = %pwd"
   ]
  },
  {
   "cell_type": "code",
   "execution_count": 4,
   "id": "4a8b466c-3fed-4955-bf06-5a4ebb3c6f51",
   "metadata": {},
   "outputs": [
    {
     "name": "stdout",
     "output_type": "stream",
     "text": [
      "Dataset URL: https://www.kaggle.com/datasets/lakshmi25npathi/imdb-dataset-of-50k-movie-reviews\n"
     ]
    }
   ],
   "source": [
    "api.dataset_download_files(\"lakshmi25npathi/imdb-dataset-of-50k-movie-reviews\", path=path, unzip=True)"
   ]
  },
  {
   "cell_type": "code",
   "execution_count": 5,
   "id": "bfad3a6b-2632-4a98-b40b-fac03dc5bd3f",
   "metadata": {},
   "outputs": [
    {
     "data": {
      "text/plain": [
       "['.ipynb_checkpoints', 'IMDB Dataset.csv', 'Untitled.ipynb', 'Untitled1.ipynb']"
      ]
     },
     "execution_count": 5,
     "metadata": {},
     "output_type": "execute_result"
    }
   ],
   "source": [
    "os.listdir()"
   ]
  },
  {
   "cell_type": "code",
   "execution_count": 6,
   "id": "f1118377-0196-4221-966e-1370e9cb850e",
   "metadata": {},
   "outputs": [
    {
     "name": "stdout",
     "output_type": "stream",
     "text": [
      "50000\n"
     ]
    },
    {
     "data": {
      "text/html": [
       "<div>\n",
       "<style scoped>\n",
       "    .dataframe tbody tr th:only-of-type {\n",
       "        vertical-align: middle;\n",
       "    }\n",
       "\n",
       "    .dataframe tbody tr th {\n",
       "        vertical-align: top;\n",
       "    }\n",
       "\n",
       "    .dataframe thead th {\n",
       "        text-align: right;\n",
       "    }\n",
       "</style>\n",
       "<table border=\"1\" class=\"dataframe\">\n",
       "  <thead>\n",
       "    <tr style=\"text-align: right;\">\n",
       "      <th></th>\n",
       "      <th>review</th>\n",
       "      <th>sentiment</th>\n",
       "    </tr>\n",
       "  </thead>\n",
       "  <tbody>\n",
       "    <tr>\n",
       "      <th>0</th>\n",
       "      <td>One of the other reviewers has mentioned that ...</td>\n",
       "      <td>positive</td>\n",
       "    </tr>\n",
       "    <tr>\n",
       "      <th>1</th>\n",
       "      <td>A wonderful little production. &lt;br /&gt;&lt;br /&gt;The...</td>\n",
       "      <td>positive</td>\n",
       "    </tr>\n",
       "    <tr>\n",
       "      <th>2</th>\n",
       "      <td>I thought this was a wonderful way to spend ti...</td>\n",
       "      <td>positive</td>\n",
       "    </tr>\n",
       "    <tr>\n",
       "      <th>3</th>\n",
       "      <td>Basically there's a family where a little boy ...</td>\n",
       "      <td>negative</td>\n",
       "    </tr>\n",
       "    <tr>\n",
       "      <th>4</th>\n",
       "      <td>Petter Mattei's \"Love in the Time of Money\" is...</td>\n",
       "      <td>positive</td>\n",
       "    </tr>\n",
       "  </tbody>\n",
       "</table>\n",
       "</div>"
      ],
      "text/plain": [
       "                                              review sentiment\n",
       "0  One of the other reviewers has mentioned that ...  positive\n",
       "1  A wonderful little production. <br /><br />The...  positive\n",
       "2  I thought this was a wonderful way to spend ti...  positive\n",
       "3  Basically there's a family where a little boy ...  negative\n",
       "4  Petter Mattei's \"Love in the Time of Money\" is...  positive"
      ]
     },
     "execution_count": 6,
     "metadata": {},
     "output_type": "execute_result"
    }
   ],
   "source": [
    "df = pd.read_csv('IMDB Dataset.csv')\n",
    "print(len(df))\n",
    "df.head()"
   ]
  },
  {
   "cell_type": "code",
   "execution_count": 7,
   "id": "21f35aee-bdae-4731-a48e-18e831a17c73",
   "metadata": {},
   "outputs": [
    {
     "data": {
      "text/plain": [
       "array(['positive', 'negative'], dtype=object)"
      ]
     },
     "execution_count": 7,
     "metadata": {},
     "output_type": "execute_result"
    }
   ],
   "source": [
    "df['sentiment'].unique()"
   ]
  },
  {
   "cell_type": "code",
   "execution_count": 8,
   "id": "475255ea-8ef3-4495-bd17-e279cb706a3c",
   "metadata": {},
   "outputs": [],
   "source": [
    "df['sentiment'] = df['sentiment'].apply(lambda x: 1 if x == 'positive' else 0)"
   ]
  },
  {
   "cell_type": "code",
   "execution_count": 9,
   "id": "bce3d0d9-7ff6-45b3-9687-5708a32518e9",
   "metadata": {},
   "outputs": [],
   "source": [
    "def clean_text(text):\n",
    "    text = re.sub(r'<.*?>', '', text)   # удалить HTML тэги \n",
    "    text = re.sub(r'[^a-zA-Z]', ' ', text) # оставить только английские буквы\n",
    "    text = text.lower().split()\n",
    "    return text\n",
    "df['review'] = df['review'].apply(clean_text)"
   ]
  },
  {
   "cell_type": "code",
   "execution_count": 10,
   "id": "b578d0a6-9c2a-409d-a39d-24f8f38e2870",
   "metadata": {},
   "outputs": [],
   "source": [
    "all_text = df['review'].values\n",
    "words_count = Counter([word for text in all_text for word in text]) #частотный словарь\n",
    "vocab = {word: i+1 for i, (word, _) in enumerate(words_count.most_common(10000))} # список слов с их индексами, используемый для преобразования текста в числа."
   ]
  },
  {
   "cell_type": "code",
   "execution_count": 11,
   "id": "dcc4f6f6-43c0-44a6-a718-705ac1093e79",
   "metadata": {},
   "outputs": [],
   "source": [
    "def text_to_sequence(text):\n",
    "    return [vocab.get(word, 0) for word in text]"
   ]
  },
  {
   "cell_type": "code",
   "execution_count": 12,
   "id": "1e551209-1144-4b40-9b09-b011ea2ba41c",
   "metadata": {},
   "outputs": [],
   "source": [
    "def sequence_to_text(sequence, vocab):\n",
    "    reverse_vocab = {v: k for k, v in vocab.items()}  \n",
    "    return ' '.join(reverse_vocab.get(num, '<UNK>') for num in sequence) "
   ]
  },
  {
   "cell_type": "code",
   "execution_count": 13,
   "id": "493b7b00-2c60-48be-8226-c95f207867e6",
   "metadata": {},
   "outputs": [],
   "source": [
    "sequences = [text_to_sequence(text) for text in all_text] #текст в числовую последовательность"
   ]
  },
  {
   "cell_type": "code",
   "execution_count": 14,
   "id": "7993212c-56e6-408c-95cc-eab51330a4c0",
   "metadata": {},
   "outputs": [],
   "source": [
    "max_len = 300\n",
    "X = np.zeros((len(sequences), max_len), dtype=int) \n",
    "for i, seq in enumerate(sequences):\n",
    "    length = min(len(seq), max_len)\n",
    "    X[i, :length] = seq[:length]\n",
    "\n",
    "y = df['sentiment'].values"
   ]
  },
  {
   "cell_type": "code",
   "execution_count": 15,
   "id": "b059cfc4-d84b-4ab3-8a3f-a6e7d112b87e",
   "metadata": {},
   "outputs": [],
   "source": [
    "X_train, X_test, y_train, y_test = train_test_split(X, y, test_size=0.2, random_state=42)"
   ]
  },
  {
   "cell_type": "code",
   "execution_count": 24,
   "id": "00556e96-9c8a-4ef6-83a6-703d6daf20bc",
   "metadata": {},
   "outputs": [
    {
     "data": {
      "text/plain": [
       "array([[  11,   12,   47, ..., 1645,    1,  872],\n",
       "       [   9,  117,   23, ...,    0,    0,    0],\n",
       "       [   3, 1348,  110, ...,    0,    0,    0],\n",
       "       ...,\n",
       "       [ 783,   10,   28, ...,    0,    0,    0],\n",
       "       [  10,  350,   13, ...,    0,    0,    0],\n",
       "       [  10,    6,    3, ...,    0,    0,    0]])"
      ]
     },
     "execution_count": 24,
     "metadata": {},
     "output_type": "execute_result"
    }
   ],
   "source": [
    "X_train"
   ]
  },
  {
   "cell_type": "code",
   "execution_count": 25,
   "id": "0595acec-04de-4e4e-a67d-11ba44b4541d",
   "metadata": {},
   "outputs": [
    {
     "data": {
      "text/plain": [
       "array([0, 0, 1, ..., 0, 1, 1])"
      ]
     },
     "execution_count": 25,
     "metadata": {},
     "output_type": "execute_result"
    }
   ],
   "source": [
    "y_train"
   ]
  },
  {
   "cell_type": "code",
   "execution_count": 16,
   "id": "a84e729a-83bc-46b8-aa3f-b2cc201b1707",
   "metadata": {},
   "outputs": [
    {
     "data": {
      "text/plain": [
       "device(type='cuda')"
      ]
     },
     "execution_count": 16,
     "metadata": {},
     "output_type": "execute_result"
    }
   ],
   "source": [
    "device = torch.device(\"cuda\" if torch.cuda.is_available() else \"cpu\")\n",
    "device"
   ]
  },
  {
   "cell_type": "code",
   "execution_count": 17,
   "id": "29dc6766-24cc-4870-94f0-e376e74e8998",
   "metadata": {},
   "outputs": [],
   "source": [
    "X_train_tensor = torch.tensor(X_train, dtype=torch.long).to(device)\n",
    "y_train_tensor = torch.tensor(y_train, dtype=torch.float32).to(device)\n",
    "X_test_tensor = torch.tensor(X_test, dtype=torch.long).to(device)\n",
    "y_test_tensor = torch.tensor(y_test, dtype=torch.float).to(device)\n",
    "\n",
    "train_data = TensorDataset(X_train_tensor, y_train_tensor)\n",
    "test_data = TensorDataset(X_test_tensor, y_test_tensor)\n",
    "\n",
    "train_loader = DataLoader(train_data, batch_size=64, shuffle=True)\n",
    "test_loader = DataLoader(test_data, batch_size=64, shuffle=False)"
   ]
  },
  {
   "cell_type": "code",
   "execution_count": 18,
   "id": "17b6bafd-15dc-42f2-a9c9-96cd432a8f01",
   "metadata": {},
   "outputs": [],
   "source": [
    "class FNN(nn.Module):\n",
    "    def __init__(self, vocab_size, embedding_dim, hidden_dim):\n",
    "        super(FNN, self).__init__()\n",
    "        self.embedding = nn.Embedding(vocab_size, embedding_dim)\n",
    "        self.fc1 = nn.Linear(embedding_dim * max_len, hidden_dim)\n",
    "        self.relu = nn.ReLU()\n",
    "        self.fc2 = nn.Linear(hidden_dim, 1)\n",
    "        self.sigmoid = nn.Sigmoid()\n",
    "\n",
    "    def forward(self, x):\n",
    "        x = self.embedding(x)\n",
    "        x = x.view(x.size(0), -1)\n",
    "        x = self.fc1(x)\n",
    "        x = self.relu(x)\n",
    "        x = self.fc2(x)\n",
    "        return self.sigmoid(x)"
   ]
  },
  {
   "cell_type": "code",
   "execution_count": 19,
   "id": "3ae7aa59-8831-4375-949e-d09ef420919d",
   "metadata": {},
   "outputs": [],
   "source": [
    "model = FNN(len(vocab) + 1, 32, 64).to(device)\n",
    "criterion = nn.BCELoss()\n",
    "optimizer = optim.Adam(model.parameters(), lr=0.001)"
   ]
  },
  {
   "cell_type": "code",
   "execution_count": 20,
   "id": "187b0977-bc78-4c3b-b369-d01d31f4ee59",
   "metadata": {},
   "outputs": [
    {
     "name": "stdout",
     "output_type": "stream",
     "text": [
      "Эпоха 1, Потери: 0.6621\n",
      "Эпоха 2, Потери: 0.4000\n",
      "Эпоха 3, Потери: 0.2352\n",
      "Эпоха 4, Потери: 0.1642\n",
      "Эпоха 5, Потери: 0.1172\n",
      "Эпоха 6, Потери: 0.0817\n",
      "Эпоха 7, Потери: 0.0562\n",
      "Эпоха 8, Потери: 0.0399\n",
      "Эпоха 9, Потери: 0.0268\n",
      "Эпоха 10, Потери: 0.0167\n",
      "Эпоха 11, Потери: 0.0557\n",
      "Эпоха 12, Потери: 0.0134\n",
      "Эпоха 13, Потери: 0.0044\n",
      "Эпоха 14, Потери: 0.0036\n",
      "Эпоха 15, Потери: 0.0050\n",
      "Эпоха 16, Потери: 0.0116\n",
      "Эпоха 17, Потери: 0.0081\n",
      "Эпоха 18, Потери: 0.0063\n",
      "Эпоха 19, Потери: 0.0106\n",
      "Эпоха 20, Потери: 0.0100\n",
      "Эпоха 21, Потери: 0.0038\n",
      "Эпоха 22, Потери: 0.0010\n",
      "Эпоха 23, Потери: 0.0006\n",
      "Эпоха 24, Потери: 0.0006\n",
      "Эпоха 25, Потери: 0.0005\n",
      "Эпоха 26, Потери: 0.0005\n",
      "Эпоха 27, Потери: 0.0237\n",
      "Эпоха 28, Потери: 0.0078\n",
      "Эпоха 29, Потери: 0.0023\n",
      "Эпоха 30, Потери: 0.0007\n",
      "Эпоха 31, Потери: 0.0005\n",
      "Эпоха 32, Потери: 0.0005\n",
      "Эпоха 33, Потери: 0.0005\n",
      "Эпоха 34, Потери: 0.0004\n",
      "Эпоха 35, Потери: 0.0038\n",
      "Эпоха 36, Потери: 0.0217\n",
      "Эпоха 37, Потери: 0.0073\n",
      "Эпоха 38, Потери: 0.0013\n",
      "Эпоха 39, Потери: 0.0005\n",
      "Эпоха 40, Потери: 0.0005\n",
      "Эпоха 41, Потери: 0.0004\n",
      "Эпоха 42, Потери: 0.0004\n",
      "Эпоха 43, Потери: 0.0004\n",
      "Эпоха 44, Потери: 0.0004\n",
      "Эпоха 45, Потери: 0.0086\n",
      "Эпоха 46, Потери: 0.0102\n",
      "Эпоха 47, Потери: 0.0026\n",
      "Эпоха 48, Потери: 0.0006\n",
      "Эпоха 49, Потери: 0.0004\n",
      "Эпоха 50, Потери: 0.0004\n",
      "63.23568797111511\n"
     ]
    }
   ],
   "source": [
    "# Обучение модели с сохранением потерь\n",
    "start_time = time.time()\n",
    "epochs = 50\n",
    "loss_history = []\n",
    "for epoch in range(epochs):\n",
    "    model.train()\n",
    "    epoch_loss = 0\n",
    "    for X_batch, y_batch in train_loader:\n",
    "        optimizer.zero_grad()\n",
    "        outputs = model(X_batch).squeeze()\n",
    "        loss = criterion(outputs, y_batch)\n",
    "        loss.backward()\n",
    "        optimizer.step()\n",
    "        epoch_loss += loss.item()\n",
    "    loss_history.append(epoch_loss / len(train_loader))\n",
    "    print(f\"Эпоха {epoch+1}, Потери: {loss_history[-1]:.4f}\")\n",
    "\n",
    "print(time.time() - start_time)"
   ]
  },
  {
   "cell_type": "code",
   "execution_count": 21,
   "id": "ccdd7681-67c9-4c32-aa56-ecf7f31fe062",
   "metadata": {},
   "outputs": [
    {
     "data": {
      "image/png": "[encoded data removed]",
      "text/plain": [
       "<Figure size 640x480 with 1 Axes>"
      ]
     },
     "metadata": {},
     "output_type": "display_data"
    }
   ],
   "source": [
    "# Построение графика потерь\n",
    "plt.plot(range(1, epochs+1), loss_history, marker='o', linestyle='-')\n",
    "plt.xlabel('Эпоха')\n",
    "plt.ylabel('Потери')\n",
    "plt.title('График потерь во время обучения')\n",
    "plt.show()"
   ]
  },
  {
   "cell_type": "code",
   "execution_count": 22,
   "id": "04241c5b-5663-4a01-8200-9e8159c853d6",
   "metadata": {},
   "outputs": [
    {
     "name": "stdout",
     "output_type": "stream",
     "text": [
      "Точность на тестовой выборке: 0.8232\n"
     ]
    }
   ],
   "source": [
    "model.eval()\n",
    "y_pred, y_true = [], []\n",
    "with torch.no_grad():\n",
    "    for X_batch, y_batch in test_loader:\n",
    "        outputs = model(X_batch).squeeze()\n",
    "        y_pred.extend(outputs.cpu().numpy())\n",
    "        y_true.extend(y_batch.cpu().numpy())\n",
    "\n",
    "accuracy = np.mean((np.array(y_pred) > 0.5) == np.array(y_true))\n",
    "print(f\"Точность на тестовой выборке: {accuracy:.4f}\")"
   ]
  },
  {
   "cell_type": "code",
   "execution_count": 23,
   "id": "6ad0b152-8e47-4c0f-a3dc-8d094eb6bc78",
   "metadata": {},
   "outputs": [],
   "source": [
    "torch.save(model, 'модель.pth')"
   ]
  },
  {
   "cell_type": "code",
   "execution_count": null,
   "id": "51ceef51-f0ce-42fb-8746-f89df4d86830",
   "metadata": {},
   "outputs": [],
   "source": [
    "#model = torch.load('the_whole_shebang.pth')"
   ]
  }
 ],
 "metadata": {
  "kernelspec": {
   "display_name": "torch",
   "language": "python",
   "name": "torch"
  },
  "language_info": {
   "codemirror_mode": {
    "name": "ipython",
    "version": 3
   },
   "file_extension": ".py",
   "mimetype": "text/x-python",
   "name": "python",
   "nbconvert_exporter": "python",
   "pygments_lexer": "ipython3",
   "version": "3.11.11"
  }
 },
 "nbformat": 4,
 "nbformat_minor": 5
}
