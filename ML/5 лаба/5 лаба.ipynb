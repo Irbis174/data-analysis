{
 "cells": [
  {
   "cell_type": "code",
   "execution_count": 50,
   "id": "78c56c79-8d6e-4dc1-b06c-11b8e35accbd",
   "metadata": {},
   "outputs": [],
   "source": [
    "import os\n",
    "import random\n",
    "\n",
    "import pandas as pd\n",
    "import numpy as np\n",
    "import matplotlib.pyplot as plt\n",
    "import seaborn as sns\n",
    "\n",
    "from sklearn.metrics import f1_score\n",
    "\n",
    "from kaggle.api.kaggle_api_extended import KaggleApi\n",
    "import kagglehub\n",
    "\n",
    "import torch\n",
    "from torch import nn\n",
    "from torch.utils.data import DataLoader, TensorDataset,  Subset\n",
    "from torchvision import datasets, transforms, models\n",
    "import torch.optim as optim\n",
    "\n",
    "from collections import defaultdict"
   ]
  },
  {
   "cell_type": "code",
   "execution_count": 2,
   "id": "e5c0c27a-8ec9-4220-9ae0-d2b35ddf66ab",
   "metadata": {},
   "outputs": [],
   "source": [
    "api = KaggleApi()\n",
    "api.authenticate()"
   ]
  },
  {
   "cell_type": "code",
   "execution_count": 3,
   "id": "281775c1-86bf-4f08-8319-ee400d42a5d7",
   "metadata": {},
   "outputs": [
    {
     "name": "stdout",
     "output_type": "stream",
     "text": [
      "Active code page: 65001\n"
     ]
    }
   ],
   "source": [
    "!chcp 65001\n",
    "path = %pwd"
   ]
  },
  {
   "cell_type": "code",
   "execution_count": 4,
   "id": "b22118ca-ac1a-41cc-ac97-6470985f6090",
   "metadata": {},
   "outputs": [],
   "source": [
    "api.dataset_download_files('swoyam2609/fresh-and-stale-classification', path = path, unzip = True)"
   ]
  },
  {
   "cell_type": "code",
   "execution_count": 49,
   "id": "da63ed7c-2986-43de-a3eb-0bf50d596821",
   "metadata": {},
   "outputs": [
    {
     "data": {
      "text/plain": [
       "['.ipynb_checkpoints', '5 лаба.ipynb', 'dataset']"
      ]
     },
     "execution_count": 49,
     "metadata": {},
     "output_type": "execute_result"
    }
   ],
   "source": [
    "os.listdir()"
   ]
  },
  {
   "cell_type": "code",
   "execution_count": 6,
   "id": "2e6e136f-18b3-453c-ba83-724cffbbd2f6",
   "metadata": {},
   "outputs": [],
   "source": [
    "# %cd dataset/Train\n",
    "# print(len(os.listdir()))\n",
    "# %cd ../.."
   ]
  },
  {
   "cell_type": "code",
   "execution_count": 20,
   "id": "a0d5a574-5989-4187-bc03-c6004a8f28cc",
   "metadata": {},
   "outputs": [],
   "source": [
    "transform = transforms.Compose([\n",
    "    transforms.Resize((224, 224)),  \n",
    "    transforms.ToTensor(), \n",
    "    transforms.Normalize(mean=[0.485, 0.456, 0.406], std=[0.229, 0.224, 0.225]),  \n",
    "])"
   ]
  },
  {
   "cell_type": "code",
   "execution_count": 21,
   "id": "b76fb1d8-f21e-469d-8207-02dbc5d0da67",
   "metadata": {},
   "outputs": [],
   "source": [
    "def load_balanced_imagefolder_dataset(data_dir):\n",
    "\n",
    "    full_dataset = datasets.ImageFolder(data_dir, transform=transform)\n",
    "\n",
    "    class_indices = defaultdict(list)\n",
    "    for idx, (_, label) in enumerate(full_dataset.samples):\n",
    "        class_indices[label].append(idx)\n",
    "\n",
    "    min_count = min(len(indices) for indices in class_indices.values())\n",
    "    print(f\"Нижняя граница: {min_count}\")\n",
    "\n",
    "    balanced_indices = []\n",
    "    for indices in class_indices.values():\n",
    "        balanced_indices.extend(random.sample(indices, min_count))\n",
    "\n",
    "    balanced_dataset = Subset(full_dataset, balanced_indices)\n",
    "    return balanced_dataset"
   ]
  },
  {
   "cell_type": "code",
   "execution_count": 24,
   "id": "c544053a-6e5f-426a-bd1b-e1ae8be0fac5",
   "metadata": {},
   "outputs": [],
   "source": [
    "# train_dataset = load_balanced_imagefolder_dataset('dataset/Train')\n",
    "# test_dataset = load_balanced_imagefolder_dataset('dataset/Test')"
   ]
  },
  {
   "cell_type": "code",
   "execution_count": 25,
   "id": "e96c9ab9-444a-4691-8cf6-95299871620d",
   "metadata": {},
   "outputs": [],
   "source": [
    "train_dataset = datasets.ImageFolder('dataset/Train', transform=transform)\n",
    "test_dataset = datasets.ImageFolder('dataset/Test', transform=transform)\n",
    "\n",
    "train_loader = DataLoader(train_dataset, batch_size=32, shuffle=True)\n",
    "test_loader = DataLoader(test_dataset, batch_size=32, shuffle=False)"
   ]
  },
  {
   "cell_type": "code",
   "execution_count": 26,
   "id": "93df04db-7c5b-4768-ae18-b78c44241ded",
   "metadata": {},
   "outputs": [],
   "source": [
    "class SimpleCNN(nn.Module):\n",
    "    def __init__(self):\n",
    "        super(SimpleCNN, self).__init__()\n",
    "        \n",
    "        # Первый слой свертки\n",
    "        self.conv1 = nn.Conv2d(in_channels=3, out_channels=32, kernel_size=3, padding=1)\n",
    "        self.relu = nn.ReLU()\n",
    "        self.maxpool = nn.MaxPool2d(kernel_size=2, stride=2)\n",
    "        self.dropout = nn.Dropout(0.2)\n",
    "        # Второй слой свертки\n",
    "        self.conv2 = nn.Conv2d(in_channels=32, out_channels=64, kernel_size=3, padding=1)\n",
    "        self.dropout = nn.Dropout(0.2)\n",
    "        \n",
    "        # Полносвязные слои\n",
    "        self.gap = nn.AdaptiveAvgPool2d((1, 1))\n",
    "        self.fc1 = nn.Linear(64, 128)  \n",
    "        self.fc2 = nn.Linear(128, 14)  \n",
    "    \n",
    "    def forward(self, x):\n",
    "        # Первая свертка\n",
    "        x = self.conv1(x)\n",
    "        x = self.relu(x)\n",
    "        x = self.maxpool(x)\n",
    "        x = self.dropout(x)\n",
    "        \n",
    "        # Вторая свертка\n",
    "        x = self.conv2(x)\n",
    "        x = self.relu(x)\n",
    "        x = self.maxpool(x)\n",
    "        x = self.dropout(x)\n",
    "        \n",
    "        # Приводим к линейному виду\n",
    "        x = self.gap(x)  \n",
    "        x = x.view(x.size(0), -1) \n",
    "        \n",
    "        # Полносвязные слои\n",
    "        x = self.fc1(x)\n",
    "        x = self.relu(x)\n",
    "        x = self.fc2(x)\n",
    "        \n",
    "        return x"
   ]
  },
  {
   "cell_type": "code",
   "execution_count": 45,
   "id": "d589f7bc-1219-490e-9682-e86f8b7e9e55",
   "metadata": {},
   "outputs": [
    {
     "name": "stdout",
     "output_type": "stream",
     "text": [
      "Эпоха 1, Потеря: 0.4478, Accuracy: 52.61\n",
      "Эпоха 2, Потеря: 0.7846, Accuracy: 61.23\n",
      "Эпоха 3, Потеря: 0.6776, Accuracy: 66.43\n",
      "Эпоха 4, Потеря: 0.4862, Accuracy: 69.86\n",
      "Эпоха 5, Потеря: 0.2394, Accuracy: 72.22\n",
      "Эпоха 6, Потеря: 0.3181, Accuracy: 74.17\n",
      "Эпоха 7, Потеря: 0.6196, Accuracy: 75.71\n",
      "Эпоха 8, Потеря: 0.2919, Accuracy: 76.95\n",
      "Эпоха 9, Потеря: 0.2872, Accuracy: 78.04\n",
      "Эпоха 10, Потеря: 0.2217, Accuracy: 78.96\n",
      "Эпоха 11, Потеря: 0.3800, Accuracy: 79.80\n",
      "Эпоха 12, Потеря: 0.2183, Accuracy: 80.51\n"
     ]
    }
   ],
   "source": [
    "device = torch.device(\"cuda\" if torch.cuda.is_available() else \"cpu\")\n",
    "model = SimpleCNN().to(device)\n",
    "\n",
    "criterion = nn.CrossEntropyLoss()  \n",
    "optimizer = optim.Adam(model.parameters(), lr=0.001) \n",
    "\n",
    "correct = 0\n",
    "total = 0\n",
    "\n",
    "losses = []\n",
    "accuracy_arr = []\n",
    "\n",
    "epochs = 12\n",
    "for epoch in range(epochs):\n",
    "    for images, labels in train_loader:\n",
    "        images = images.to(device)\n",
    "        labels = labels.to(device)\n",
    "        \n",
    "        optimizer.zero_grad()\n",
    "        outputs = model(images)\n",
    "        _, predicted = torch.max(outputs.data, 1)\n",
    "\n",
    "        total += labels.size(0)\n",
    "        correct += (predicted == labels).sum().item()\n",
    "\n",
    "        loss = criterion(outputs, labels)\n",
    "        loss.backward()\n",
    "        optimizer.step()\n",
    "    losses.append(loss.item())\n",
    "    accuracy = (100* correct / total)\n",
    "    accuracy_arr.append(accuracy)\n",
    "    \n",
    "    print(f'Эпоха {epoch+1}, Потеря: {loss.item():.4f}, Accuracy: {accuracy:.2f}')"
   ]
  },
  {
   "cell_type": "code",
   "execution_count": 46,
   "id": "8c6cc5ca-9a63-4ce7-88c4-fd2261dcd6df",
   "metadata": {},
   "outputs": [
    {
     "data": {
      "image/png": "[encoded data removed]",
      "text/plain": [
       "<Figure size 1200x500 with 2 Axes>"
      ]
     },
     "metadata": {},
     "output_type": "display_data"
    }
   ],
   "source": [
    "plt.figure(figsize=(12, 5))\n",
    "\n",
    "plt.subplot(1, 2, 1)\n",
    "plt.plot(range(1, epochs+1), losses, marker='o')\n",
    "plt.title('Потери по эпохам')\n",
    "plt.xlabel('Эпоха')\n",
    "plt.ylabel('Потеря')\n",
    "\n",
    "plt.subplot(1, 2, 2)\n",
    "plt.plot(range(1, epochs+1), accuracy_arr, marker='o', color='green')\n",
    "plt.title('Точность по эпохам')\n",
    "plt.xlabel('Эпоха')\n",
    "plt.ylabel('Точность (%)')\n",
    "\n",
    "plt.tight_layout()\n",
    "plt.show()"
   ]
  },
  {
   "cell_type": "code",
   "execution_count": 54,
   "id": "0ff06d1a-4c9d-42e0-b954-2e9d44fec970",
   "metadata": {},
   "outputs": [
    {
     "name": "stdout",
     "output_type": "stream",
     "text": [
      "Test Accuracy: 85.05%\n",
      "Test F1-score: 84.99%\n"
     ]
    }
   ],
   "source": [
    "correct = 0\n",
    "total = 0\n",
    "\n",
    "all_preds = []\n",
    "all_labels = []\n",
    "\n",
    "with torch.no_grad():\n",
    "    for inputs, labels in test_loader:\n",
    "        inputs, labels = inputs.to(device), labels.to(device)\n",
    "\n",
    "        outputs = model(inputs)\n",
    "        _, predicted = torch.max(outputs.data, 1)\n",
    "\n",
    "        total += labels.size(0)\n",
    "        correct += (predicted == labels).sum().item()\n",
    "\n",
    "        all_preds.extend(predicted.cpu().numpy())\n",
    "        all_labels.extend(labels.cpu().numpy())\n",
    "\n",
    "accuracy = 100 * correct / total\n",
    "f1 = f1_score(all_labels, all_preds, average='weighted')  \n",
    "\n",
    "print(f\"Test Accuracy: {accuracy:.2f}%\")\n",
    "print(f\"Test F1-score: {(f1 * 100):.2f}%\")\n"
   ]
  },
  {
   "cell_type": "code",
   "execution_count": null,
   "id": "c2019a00-b3a3-46a2-99cb-3ee5d0578f01",
   "metadata": {},
   "outputs": [],
   "source": []
  }
 ],
 "metadata": {
  "kernelspec": {
   "display_name": "torch",
   "language": "python",
   "name": "torch"
  },
  "language_info": {
   "codemirror_mode": {
    "name": "ipython",
    "version": 3
   },
   "file_extension": ".py",
   "mimetype": "text/x-python",
   "name": "python",
   "nbconvert_exporter": "python",
   "pygments_lexer": "ipython3",
   "version": "3.11.11"
  }
 },
 "nbformat": 4,
 "nbformat_minor": 5
}
