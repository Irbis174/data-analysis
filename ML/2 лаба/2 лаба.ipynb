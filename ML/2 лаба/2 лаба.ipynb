{
 "cells": [
  {
   "cell_type": "code",
   "execution_count": 1,
   "id": "eb9b248a-0be2-4864-a52d-f80072b35b88",
   "metadata": {},
   "outputs": [],
   "source": [
    "import torch\n",
    "from torch import nn\n",
    "from torch.utils.data import DataLoader, TensorDataset\n",
    "\n",
    "import pandas as pd\n",
    "import numpy as np\n",
    "import matplotlib.pyplot as plt\n",
    "\n",
    "from kaggle.api.kaggle_api_extended import KaggleApi\n",
    "import kagglehub\n",
    "\n",
    "from sklearn.model_selection import train_test_split\n",
    "from sklearn.preprocessing import MinMaxScaler\n",
    "from sklearn.metrics import mean_squared_error, mean_absolute_error, r2_score\n",
    "\n",
    "import os"
   ]
  },
  {
   "cell_type": "code",
   "execution_count": 2,
   "id": "5db4f299-ed4c-44f9-a769-0a1f016ea357",
   "metadata": {},
   "outputs": [],
   "source": [
    "api = KaggleApi()\n",
    "api.authenticate()"
   ]
  },
  {
   "cell_type": "code",
   "execution_count": 3,
   "id": "7ff15e97-6ad4-4c77-9298-771ada4edfca",
   "metadata": {},
   "outputs": [
    {
     "name": "stdout",
     "output_type": "stream",
     "text": [
      "Active code page: 65001\n"
     ]
    }
   ],
   "source": [
    "!chcp 65001\n",
    "path = %pwd"
   ]
  },
  {
   "cell_type": "code",
   "execution_count": 4,
   "id": "cfa0b260-0e3b-4b34-9c47-35bab7841fea",
   "metadata": {},
   "outputs": [
    {
     "name": "stdout",
     "output_type": "stream",
     "text": [
      "Dataset URL: https://www.kaggle.com/datasets/uciml/human-activity-recognition-with-smartphones\n"
     ]
    }
   ],
   "source": [
    "api.dataset_download_files(\"uciml/human-activity-recognition-with-smartphones\", path = path, unzip = True)"
   ]
  },
  {
   "cell_type": "code",
   "execution_count": 5,
   "id": "28106086-d7f4-49c7-b45f-3762c39094a3",
   "metadata": {},
   "outputs": [
    {
     "data": {
      "text/plain": [
       "['.ipynb_checkpoints', '2 лаба.ipynb', 'test.csv', 'train.csv']"
      ]
     },
     "execution_count": 5,
     "metadata": {},
     "output_type": "execute_result"
    }
   ],
   "source": [
    "os.listdir()"
   ]
  },
  {
   "cell_type": "code",
   "execution_count": 278,
   "id": "c07f68a9-92b5-4107-ad4f-c88c3eb9e2a6",
   "metadata": {},
   "outputs": [
    {
     "data": {
      "text/html": [
       "<div>\n",
       "<style scoped>\n",
       "    .dataframe tbody tr th:only-of-type {\n",
       "        vertical-align: middle;\n",
       "    }\n",
       "\n",
       "    .dataframe tbody tr th {\n",
       "        vertical-align: top;\n",
       "    }\n",
       "\n",
       "    .dataframe thead th {\n",
       "        text-align: right;\n",
       "    }\n",
       "</style>\n",
       "<table border=\"1\" class=\"dataframe\">\n",
       "  <thead>\n",
       "    <tr style=\"text-align: right;\">\n",
       "      <th></th>\n",
       "      <th>tBodyAcc-mean()-X</th>\n",
       "      <th>tBodyAcc-mean()-Y</th>\n",
       "      <th>tBodyAcc-mean()-Z</th>\n",
       "      <th>tBodyAcc-std()-X</th>\n",
       "      <th>tBodyAcc-std()-Y</th>\n",
       "      <th>tBodyAcc-std()-Z</th>\n",
       "      <th>tBodyAcc-mad()-X</th>\n",
       "      <th>tBodyAcc-mad()-Y</th>\n",
       "      <th>tBodyAcc-mad()-Z</th>\n",
       "      <th>tBodyAcc-max()-X</th>\n",
       "      <th>...</th>\n",
       "      <th>fBodyBodyGyroJerkMag-kurtosis()</th>\n",
       "      <th>angle(tBodyAccMean,gravity)</th>\n",
       "      <th>angle(tBodyAccJerkMean),gravityMean)</th>\n",
       "      <th>angle(tBodyGyroMean,gravityMean)</th>\n",
       "      <th>angle(tBodyGyroJerkMean,gravityMean)</th>\n",
       "      <th>angle(X,gravityMean)</th>\n",
       "      <th>angle(Y,gravityMean)</th>\n",
       "      <th>angle(Z,gravityMean)</th>\n",
       "      <th>subject</th>\n",
       "      <th>Activity</th>\n",
       "    </tr>\n",
       "  </thead>\n",
       "  <tbody>\n",
       "    <tr>\n",
       "      <th>0</th>\n",
       "      <td>0.288585</td>\n",
       "      <td>-0.020294</td>\n",
       "      <td>-0.132905</td>\n",
       "      <td>-0.995279</td>\n",
       "      <td>-0.983111</td>\n",
       "      <td>-0.913526</td>\n",
       "      <td>-0.995112</td>\n",
       "      <td>-0.983185</td>\n",
       "      <td>-0.923527</td>\n",
       "      <td>-0.934724</td>\n",
       "      <td>...</td>\n",
       "      <td>-0.710304</td>\n",
       "      <td>-0.112754</td>\n",
       "      <td>0.030400</td>\n",
       "      <td>-0.464761</td>\n",
       "      <td>-0.018446</td>\n",
       "      <td>-0.841247</td>\n",
       "      <td>0.179941</td>\n",
       "      <td>-0.058627</td>\n",
       "      <td>1</td>\n",
       "      <td>STANDING</td>\n",
       "    </tr>\n",
       "    <tr>\n",
       "      <th>1</th>\n",
       "      <td>0.278419</td>\n",
       "      <td>-0.016411</td>\n",
       "      <td>-0.123520</td>\n",
       "      <td>-0.998245</td>\n",
       "      <td>-0.975300</td>\n",
       "      <td>-0.960322</td>\n",
       "      <td>-0.998807</td>\n",
       "      <td>-0.974914</td>\n",
       "      <td>-0.957686</td>\n",
       "      <td>-0.943068</td>\n",
       "      <td>...</td>\n",
       "      <td>-0.861499</td>\n",
       "      <td>0.053477</td>\n",
       "      <td>-0.007435</td>\n",
       "      <td>-0.732626</td>\n",
       "      <td>0.703511</td>\n",
       "      <td>-0.844788</td>\n",
       "      <td>0.180289</td>\n",
       "      <td>-0.054317</td>\n",
       "      <td>1</td>\n",
       "      <td>STANDING</td>\n",
       "    </tr>\n",
       "    <tr>\n",
       "      <th>2</th>\n",
       "      <td>0.279653</td>\n",
       "      <td>-0.019467</td>\n",
       "      <td>-0.113462</td>\n",
       "      <td>-0.995380</td>\n",
       "      <td>-0.967187</td>\n",
       "      <td>-0.978944</td>\n",
       "      <td>-0.996520</td>\n",
       "      <td>-0.963668</td>\n",
       "      <td>-0.977469</td>\n",
       "      <td>-0.938692</td>\n",
       "      <td>...</td>\n",
       "      <td>-0.760104</td>\n",
       "      <td>-0.118559</td>\n",
       "      <td>0.177899</td>\n",
       "      <td>0.100699</td>\n",
       "      <td>0.808529</td>\n",
       "      <td>-0.848933</td>\n",
       "      <td>0.180637</td>\n",
       "      <td>-0.049118</td>\n",
       "      <td>1</td>\n",
       "      <td>STANDING</td>\n",
       "    </tr>\n",
       "    <tr>\n",
       "      <th>3</th>\n",
       "      <td>0.279174</td>\n",
       "      <td>-0.026201</td>\n",
       "      <td>-0.123283</td>\n",
       "      <td>-0.996091</td>\n",
       "      <td>-0.983403</td>\n",
       "      <td>-0.990675</td>\n",
       "      <td>-0.997099</td>\n",
       "      <td>-0.982750</td>\n",
       "      <td>-0.989302</td>\n",
       "      <td>-0.938692</td>\n",
       "      <td>...</td>\n",
       "      <td>-0.482845</td>\n",
       "      <td>-0.036788</td>\n",
       "      <td>-0.012892</td>\n",
       "      <td>0.640011</td>\n",
       "      <td>-0.485366</td>\n",
       "      <td>-0.848649</td>\n",
       "      <td>0.181935</td>\n",
       "      <td>-0.047663</td>\n",
       "      <td>1</td>\n",
       "      <td>STANDING</td>\n",
       "    </tr>\n",
       "    <tr>\n",
       "      <th>4</th>\n",
       "      <td>0.276629</td>\n",
       "      <td>-0.016570</td>\n",
       "      <td>-0.115362</td>\n",
       "      <td>-0.998139</td>\n",
       "      <td>-0.980817</td>\n",
       "      <td>-0.990482</td>\n",
       "      <td>-0.998321</td>\n",
       "      <td>-0.979672</td>\n",
       "      <td>-0.990441</td>\n",
       "      <td>-0.942469</td>\n",
       "      <td>...</td>\n",
       "      <td>-0.699205</td>\n",
       "      <td>0.123320</td>\n",
       "      <td>0.122542</td>\n",
       "      <td>0.693578</td>\n",
       "      <td>-0.615971</td>\n",
       "      <td>-0.847865</td>\n",
       "      <td>0.185151</td>\n",
       "      <td>-0.043892</td>\n",
       "      <td>1</td>\n",
       "      <td>STANDING</td>\n",
       "    </tr>\n",
       "  </tbody>\n",
       "</table>\n",
       "<p>5 rows × 563 columns</p>\n",
       "</div>"
      ],
      "text/plain": [
       "   tBodyAcc-mean()-X  tBodyAcc-mean()-Y  tBodyAcc-mean()-Z  tBodyAcc-std()-X  \\\n",
       "0           0.288585          -0.020294          -0.132905         -0.995279   \n",
       "1           0.278419          -0.016411          -0.123520         -0.998245   \n",
       "2           0.279653          -0.019467          -0.113462         -0.995380   \n",
       "3           0.279174          -0.026201          -0.123283         -0.996091   \n",
       "4           0.276629          -0.016570          -0.115362         -0.998139   \n",
       "\n",
       "   tBodyAcc-std()-Y  tBodyAcc-std()-Z  tBodyAcc-mad()-X  tBodyAcc-mad()-Y  \\\n",
       "0         -0.983111         -0.913526         -0.995112         -0.983185   \n",
       "1         -0.975300         -0.960322         -0.998807         -0.974914   \n",
       "2         -0.967187         -0.978944         -0.996520         -0.963668   \n",
       "3         -0.983403         -0.990675         -0.997099         -0.982750   \n",
       "4         -0.980817         -0.990482         -0.998321         -0.979672   \n",
       "\n",
       "   tBodyAcc-mad()-Z  tBodyAcc-max()-X  ...  fBodyBodyGyroJerkMag-kurtosis()  \\\n",
       "0         -0.923527         -0.934724  ...                        -0.710304   \n",
       "1         -0.957686         -0.943068  ...                        -0.861499   \n",
       "2         -0.977469         -0.938692  ...                        -0.760104   \n",
       "3         -0.989302         -0.938692  ...                        -0.482845   \n",
       "4         -0.990441         -0.942469  ...                        -0.699205   \n",
       "\n",
       "   angle(tBodyAccMean,gravity)  angle(tBodyAccJerkMean),gravityMean)  \\\n",
       "0                    -0.112754                              0.030400   \n",
       "1                     0.053477                             -0.007435   \n",
       "2                    -0.118559                              0.177899   \n",
       "3                    -0.036788                             -0.012892   \n",
       "4                     0.123320                              0.122542   \n",
       "\n",
       "   angle(tBodyGyroMean,gravityMean)  angle(tBodyGyroJerkMean,gravityMean)  \\\n",
       "0                         -0.464761                             -0.018446   \n",
       "1                         -0.732626                              0.703511   \n",
       "2                          0.100699                              0.808529   \n",
       "3                          0.640011                             -0.485366   \n",
       "4                          0.693578                             -0.615971   \n",
       "\n",
       "   angle(X,gravityMean)  angle(Y,gravityMean)  angle(Z,gravityMean)  subject  \\\n",
       "0             -0.841247              0.179941             -0.058627        1   \n",
       "1             -0.844788              0.180289             -0.054317        1   \n",
       "2             -0.848933              0.180637             -0.049118        1   \n",
       "3             -0.848649              0.181935             -0.047663        1   \n",
       "4             -0.847865              0.185151             -0.043892        1   \n",
       "\n",
       "   Activity  \n",
       "0  STANDING  \n",
       "1  STANDING  \n",
       "2  STANDING  \n",
       "3  STANDING  \n",
       "4  STANDING  \n",
       "\n",
       "[5 rows x 563 columns]"
      ]
     },
     "execution_count": 278,
     "metadata": {},
     "output_type": "execute_result"
    }
   ],
   "source": [
    "df_train = pd.read_csv('train.csv')\n",
    "df_test = pd.read_csv('test.csv')\n",
    "df_train.head()"
   ]
  },
  {
   "cell_type": "code",
   "execution_count": 279,
   "id": "21fb02f9-4011-42c2-9c1b-00dba1a96ebb",
   "metadata": {},
   "outputs": [],
   "source": [
    "columns = [col for col in df_train.columns if ('Acc' in col or 'Gyro' in col)]\n",
    "window_size = 7  \n",
    "df_train[columns] = df_train[columns].rolling(window=window_size, min_periods=1).mean()\n",
    "df_test[columns] = df_test[columns].rolling(window=window_size, min_periods=1).mean()"
   ]
  },
  {
   "cell_type": "code",
   "execution_count": 280,
   "id": "5c51e56c-6482-461d-9917-63e464268bee",
   "metadata": {},
   "outputs": [],
   "source": [
    "def add_gaussian_noise(df):\n",
    "    df_copy = df.copy()\n",
    "    noise_lvl = 0.1\n",
    "    for column in df_copy.select_dtypes(include=[np.number]).columns:\n",
    "        noise = np.random.normal(0, noise_lvl, df_copy[column].shape)\n",
    "        df_copy[column] = df_copy[column] + noise\n",
    "    mask = np.random.rand(*df_copy.shape) <= 0.1\n",
    "    df_copy[mask] = np.nan\n",
    "    return df_copy"
   ]
  },
  {
   "cell_type": "code",
   "execution_count": 281,
   "id": "0109ee5a-0fa0-4ea9-a8b6-21de91d5cc05",
   "metadata": {},
   "outputs": [],
   "source": [
    "def create_sequences(data, seq_length):\n",
    "    sequences = []\n",
    "    for i in range(len(data) - seq_length):\n",
    "        sequence = data[i:i + seq_length]\n",
    "        target = data[i + seq_length]\n",
    "        sequences.append((sequence, target))\n",
    "    return sequences"
   ]
  },
  {
   "cell_type": "code",
   "execution_count": 282,
   "id": "bb51c63c-ff87-44de-9336-a8d83f51768c",
   "metadata": {},
   "outputs": [],
   "source": [
    "df_train = df_train.select_dtypes(include=[np.number])  "
   ]
  },
  {
   "cell_type": "code",
   "execution_count": 283,
   "id": "362c6f91-09b0-4d50-92a7-062c182fe2fd",
   "metadata": {},
   "outputs": [],
   "source": [
    "df_train, df_val = train_test_split(df_train, test_size=0.2, random_state=1)\n",
    "df_train_noise = add_gaussian_noise(df_train)\n",
    "df_val_noise = add_gaussian_noise(df_val)"
   ]
  },
  {
   "cell_type": "code",
   "execution_count": 284,
   "id": "334c1e93-eaf3-46dd-adf8-521d05117eee",
   "metadata": {},
   "outputs": [],
   "source": [
    "scaler = MinMaxScaler(feature_range=(-1, 1))\n",
    "df_train_scaled = pd.DataFrame(scaler.fit_transform(df_train), columns=df_train.columns)\n",
    "df_val_scaled = pd.DataFrame(scaler.transform(df_val), columns=df_val.columns)\n",
    "df_train_noise_scaled = pd.DataFrame(scaler.transform(df_train_noise.fillna(0)), columns=df_train_noise.columns)\n",
    "df_val_noise_scaled = pd.DataFrame(scaler.transform(df_val_noise.fillna(0)), columns=df_val_noise.columns)\n",
    "\n",
    "train_sequences = create_sequences(df_train_noise_scaled.values, window_size)\n",
    "val_sequences = create_sequences(df_val_noise_scaled.values, window_size)\n",
    "\n",
    "X_train = np.array([seq[0] for seq in train_sequences])\n",
    "y_train = np.array([seq[1] for seq in train_sequences])\n",
    "X_val = np.array([seq[0] for seq in val_sequences])\n",
    "y_val = np.array([seq[1] for seq in val_sequences])\n",
    "\n",
    "X_train = torch.tensor(X_train, dtype=torch.float32)\n",
    "y_train = torch.tensor(y_train, dtype=torch.float32)\n",
    "X_val = torch.tensor(X_val, dtype=torch.float32)\n",
    "y_val = torch.tensor(y_val, dtype=torch.float32)\n",
    "\n",
    "X_train = X_train.view(X_train.shape[0], X_train.shape[1], X_train.shape[2])\n",
    "X_val = X_val.view(X_val.shape[0], X_val.shape[1], X_val.shape[2])\n",
    "y_train = y_train.view(y_train.shape[0], 1, y_train.shape[1])\n",
    "y_val = y_val.view(y_val.shape[0], 1, y_val.shape[1])\n",
    "\n",
    "batch_size = 32\n",
    "train_dataset = TensorDataset(X_train, y_train)\n",
    "val_dataset = TensorDataset(X_val, y_val)\n",
    "\n",
    "train_loader = DataLoader(train_dataset, batch_size=batch_size, shuffle=True)\n",
    "val_loader = DataLoader(val_dataset, batch_size=batch_size, shuffle=False)"
   ]
  },
  {
   "cell_type": "code",
   "execution_count": 285,
   "id": "6daf6e05-e050-45cf-8c3e-cf09bdeea064",
   "metadata": {},
   "outputs": [],
   "source": [
    "class LSTMModel(nn.Module):\n",
    "    def __init__(self, input_size, hidden_size, output_size, num_layers=1):\n",
    "        super(LSTMModel, self).__init__()\n",
    "        self.hidden_size = hidden_size\n",
    "        self.num_layers = num_layers\n",
    "        self.lstm = nn.LSTM(input_size, hidden_size, num_layers, batch_first=True)\n",
    "        self.fc = nn.Linear(hidden_size, output_size)\n",
    "\n",
    "    def forward(self, x):\n",
    "        h0 = torch.zeros(self.num_layers, x.size(0), self.hidden_size).to(x.device)\n",
    "        c0 = torch.zeros(self.num_layers, x.size(0), self.hidden_size).to(x.device)\n",
    "\n",
    "        out, _ = self.lstm(x, (h0, c0))\n",
    "        \n",
    "        out = self.fc(out[:, -1, :])\n",
    "        return out"
   ]
  },
  {
   "cell_type": "code",
   "execution_count": 286,
   "id": "ff1c8e65-6fb5-434b-82dd-8a34bf517595",
   "metadata": {},
   "outputs": [],
   "source": [
    "input_size = X_train.shape[2]  \n",
    "hidden_size = 32  \n",
    "output_size = y_train.shape[2]\n",
    "num_layers = 1\n",
    "device = torch.device(\"cuda\" if torch.cuda.is_available() else \"cpu\")\n",
    "model = LSTMModel(input_size, hidden_size, output_size, num_layers).to(device)\n",
    "criterion = nn.MSELoss()\n",
    "optimizer = torch.optim.Adam(model.parameters(), lr=0.01)"
   ]
  },
  {
   "cell_type": "code",
   "execution_count": 287,
   "id": "f8294af6-1c70-46dd-b86c-99ffb5b9ae8f",
   "metadata": {},
   "outputs": [],
   "source": [
    "X_train = X_train.to(device)\n",
    "y_train = y_train.to(device)\n",
    "X_val = X_val.to(device)\n",
    "y_val = y_val.to(device)"
   ]
  },
  {
   "cell_type": "code",
   "execution_count": 288,
   "id": "959468d4-f63e-4619-9779-0ff41e63db21",
   "metadata": {},
   "outputs": [
    {
     "name": "stdout",
     "output_type": "stream",
     "text": [
      "Epoch 1/30, Loss: 0.583827, MSE: 0.583827, MAE: 0.640232, R2: -1.268402\n",
      "Epoch 11/30, Loss: 0.320621, MSE: 0.320621, MAE: 0.438080, R2: -0.167820\n",
      "Epoch 21/30, Loss: 0.287996, MSE: 0.287996, MAE: 0.397086, R2: -0.042452\n"
     ]
    }
   ],
   "source": [
    "epochs = 30\n",
    "loss_history = []\n",
    "metrics_history = []\n",
    "\n",
    "for epoch in range(epochs):\n",
    "    model.train()\n",
    "    optimizer.zero_grad()\n",
    "\n",
    "    y_pred = model(X_train)\n",
    "\n",
    "    y_train_squeezed = y_train.squeeze(dim=1)\n",
    "    y_pred_squeezed = y_pred.squeeze(dim=1)\n",
    "\n",
    "    loss = criterion(y_pred_squeezed, y_train_squeezed)\n",
    "    loss_history.append(loss.item())\n",
    "\n",
    "    loss.backward()\n",
    "    optimizer.step()\n",
    "\n",
    "    with torch.no_grad():\n",
    "        y_pred_np = y_pred_squeezed.cpu().numpy()\n",
    "        y_train_np = y_train_squeezed.cpu().numpy()\n",
    "\n",
    "    mse = mean_squared_error(y_train_np, y_pred_np)\n",
    "    mae = mean_absolute_error(y_train_np, y_pred_np)\n",
    "    r2 = r2_score(y_train_np, y_pred_np)\n",
    "    metrics_history.append((mse, mae, r2))\n",
    "\n",
    "    if epoch % 10 == 0:\n",
    "        print(f\"Epoch {epoch+1}/{epochs}, Loss: {loss.item():.6f}, MSE: {mse:.6f}, MAE: {mae:.6f}, R2: {r2:.6f}\")"
   ]
  },
  {
   "cell_type": "code",
   "execution_count": 307,
   "id": "aa1c641d-5537-45e5-80d6-a5e85c06d669",
   "metadata": {},
   "outputs": [
    {
     "data": {
      "text/plain": [
       "(0.2835243344306946, 0.39987751841545105, -0.021331479772925377)"
      ]
     },
     "execution_count": 307,
     "metadata": {},
     "output_type": "execute_result"
    }
   ],
   "source": [
    "metrics_history[-1]"
   ]
  },
  {
   "cell_type": "code",
   "execution_count": 290,
   "id": "28d5549c-ae18-4b2f-ba5c-59fd1a7cf027",
   "metadata": {},
   "outputs": [
    {
     "data": {
      "image/png": "[encoded data removed]",
      "text/plain": [
       "<Figure size 1500x600 with 3 Axes>"
      ]
     },
     "metadata": {},
     "output_type": "display_data"
    }
   ],
   "source": [
    "plt.figure(figsize=(15, 6)) \n",
    "\n",
    "plt.subplot(1, 3, 1)\n",
    "plt.plot(mse_history, label=\"MSE\", color='b')\n",
    "plt.title('MSE')\n",
    "plt.xlabel('Эпоха')\n",
    "plt.ylabel('MSE')\n",
    "plt.legend()\n",
    "\n",
    "# График для MAE\n",
    "plt.subplot(1, 3, 2)\n",
    "plt.plot(mae_history, label=\"MAE\", color='g')\n",
    "plt.title('MAE')\n",
    "plt.xlabel('Эпоха')\n",
    "plt.ylabel('MAE')\n",
    "plt.legend()\n",
    "\n",
    "# График для R²\n",
    "plt.subplot(1, 3, 3)\n",
    "plt.plot(r2_history, label=\"R²\", color='r')\n",
    "plt.title('R²')\n",
    "plt.xlabel('Эпоха')\n",
    "plt.ylabel('R²')\n",
    "plt.legend()\n",
    "\n",
    "plt.tight_layout()\n",
    "plt.show()"
   ]
  },
  {
   "cell_type": "code",
   "execution_count": 291,
   "id": "2b130d09-80c4-41f0-82a0-2c201c5a3075",
   "metadata": {},
   "outputs": [
    {
     "data": {
      "image/png": "[encoded data removed]",
      "text/plain": [
       "<Figure size 640x480 with 1 Axes>"
      ]
     },
     "metadata": {},
     "output_type": "display_data"
    }
   ],
   "source": [
    "# Построение графика потерь\n",
    "plt.plot(range(1, epochs+1), loss_history, marker='o', linestyle='-')\n",
    "plt.xlabel('Эпоха')\n",
    "plt.ylabel('Потери')\n",
    "plt.title('График потерь во время обучения')\n",
    "plt.show()"
   ]
  },
  {
   "cell_type": "code",
   "execution_count": 292,
   "id": "b71c444c-48a3-46c5-a912-adb9b4295fe1",
   "metadata": {},
   "outputs": [],
   "source": [
    "# model.eval()\n",
    "# with torch.no_grad():\n",
    "#     y_val_pred = model(X_val)\n",
    "\n",
    "# y_val_pred = y_val_pred.cpu().numpy()\n",
    "# y_val = y_val.cpu().numpy()\n",
    "\n",
    "# y_val_pred = scaler.inverse_transform(y_val_pred.reshape(-1, output_size))\n",
    "# y_val = scaler.inverse_transform(y_val.reshape(-1, output_size))\n",
    "\n",
    "# print(\"MSE:\", mean_squared_error(y_val, y_val_pred))\n",
    "# print(\"MAE:\", mean_absolute_error(y_val, y_val_pred))\n",
    "# print(\"R²:\", r2_score(y_val, y_val_pred))"
   ]
  },
  {
   "cell_type": "code",
   "execution_count": 306,
   "id": "372081db-051b-497b-8804-e64568b0c531",
   "metadata": {},
   "outputs": [
    {
     "name": "stdout",
     "output_type": "stream",
     "text": [
      "Линейная интерполяция - MSE: 0.20154067749151064, MAE: 0.30351738859164284, R²: 0.24825091782920994\n",
      "сплайны - MSE: 0.20154067749151064, MAE: 0.30351738859164284, R²: 0.24825091782920994\n",
      "LSTM - MSE: 0.2542460262775421, MAE: 0.3666912913322449, R²: 0.05165940523147583\n"
     ]
    }
   ],
   "source": [
    "X_test_missing = df_val_scaled.values \n",
    "\n",
    "X_test_linear = pd.DataFrame(X_test_missing).interpolate(method='linear', limit_direction='both').values\n",
    "\n",
    "X_test_spline = pd.DataFrame(X_test_missing).interpolate(method='spline', order=3, limit_direction='both').values\n",
    "\n",
    "X_test_tensor = torch.tensor(X_test_missing, dtype=torch.float32).view(1, -1, X_test_missing.shape[1]).to(device)\n",
    "y_lstm_scaled = model(X_test_tensor).detach().cpu().numpy()\n",
    "\n",
    "min_len = min(len(y_val), len(X_test_linear), len(X_test_spline), len(y_lstm_scaled))\n",
    "\n",
    "y_val = y_val[:min_len]\n",
    "X_test_linear = X_test_linear[:min_len]\n",
    "X_test_spline = X_test_spline[:min_len]\n",
    "y_lstm_scaled = y_lstm_scaled[:min_len]\n",
    "\n",
    "y_pred_np = y_pred.cpu().detach().numpy()  \n",
    "y_train_np = y_train.cpu().detach().numpy()\n",
    "\n",
    "X_test_linear = X_test_linear.reshape(-1)\n",
    "X_test_spline = X_test_spline.reshape(-1)\n",
    "X_test_tensor = X_test_tensor.reshape(-1)\n",
    "\n",
    "def evaluate(true_values, predicted_values):\n",
    "    mse = mean_squared_error(true_values, predicted_values)\n",
    "    mae = mean_absolute_error(true_values, predicted_values)\n",
    "    r2 = r2_score(true_values, predicted_values)\n",
    "    return mse, mae, r2\n",
    "\n",
    "y_val_np = y_val.cpu().detach().numpy().squeeze()  \n",
    "X_test_linear = pd.DataFrame(X_test_linear).interpolate(method='linear', limit_direction='both').values\n",
    "mse_linear, mae_linear, r2_linear = evaluate(y_val_np, X_test_linear)\n",
    "print(f\"Линейная интерполяция - MSE: {mse_linear}, MAE: {mae_linear}, R²: {r2_linear}\")\n",
    "\n",
    "X_test_spline = pd.DataFrame(X_test_spline).interpolate(method='spline', order=3, limit_direction='both').values\n",
    "mse_spline, mae_spline, r2_spline = evaluate(y_val_np, X_test_spline)\n",
    "print(f\"Сплайны - MSE: {mse_spline}, MAE: {mae_spline}, R²: {r2_spline}\")\n",
    "\n",
    "y_lstm_scaled = y_lstm_scaled.squeeze()\n",
    "mse_lstm, mae_lstm, r2_lstm = evaluate(y_val_np, y_lstm_scaled)\n",
    "print(f\"LSTM - MSE: {mse_lstm}, MAE: {mae_lstm}, R²: {r2_lstm}\")"
   ]
  },
  {
   "cell_type": "code",
   "execution_count": 300,
   "id": "dad84468-8556-405f-b2e4-05fc632bfdad",
   "metadata": {},
   "outputs": [
    {
     "ename": "AttributeError",
     "evalue": "'Tensor' object has no attribute 'interpolate'",
     "output_type": "error",
     "traceback": [
      "\u001b[1;31m---------------------------------------------------------------------------\u001b[0m",
      "\u001b[1;31mAttributeError\u001b[0m                            Traceback (most recent call last)",
      "Cell \u001b[1;32mIn[300], line 1\u001b[0m\n\u001b[1;32m----> 1\u001b[0m df_interpolated_linear \u001b[38;5;241m=\u001b[39m \u001b[43mX_val\u001b[49m\u001b[38;5;241;43m.\u001b[39;49m\u001b[43minterpolate\u001b[49m(method\u001b[38;5;241m=\u001b[39m\u001b[38;5;124m'\u001b[39m\u001b[38;5;124mlinear\u001b[39m\u001b[38;5;124m'\u001b[39m)\n",
      "\u001b[1;31mAttributeError\u001b[0m: 'Tensor' object has no attribute 'interpolate'"
     ]
    }
   ],
   "source": [
    "df_interpolated_linear = X_val.interpolate(method='linear')"
   ]
  },
  {
   "cell_type": "code",
   "execution_count": null,
   "id": "a7695aec-9b66-4c6e-83be-55ac515ca288",
   "metadata": {},
   "outputs": [],
   "source": []
  }
 ],
 "metadata": {
  "kernelspec": {
   "display_name": "torch",
   "language": "python",
   "name": "torch"
  },
  "language_info": {
   "codemirror_mode": {
    "name": "ipython",
    "version": 3
   },
   "file_extension": ".py",
   "mimetype": "text/x-python",
   "name": "python",
   "nbconvert_exporter": "python",
   "pygments_lexer": "ipython3",
   "version": "3.11.11"
  }
 },
 "nbformat": 4,
 "nbformat_minor": 5
}
